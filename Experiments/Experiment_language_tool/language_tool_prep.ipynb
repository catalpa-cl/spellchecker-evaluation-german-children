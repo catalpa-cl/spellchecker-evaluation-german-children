{
 "cells": [
  {
   "cell_type": "markdown",
   "id": "deffea33-03a6-4a61-ac5c-020ad0c12b0c",
   "metadata": {},
   "source": [
    "# Preprocessing for language_tool analysis\n",
    "- Get list of misspellings, preprocessed (i. e. data_error_types)\n",
    "- Get continuous text\n",
    "    - Needs to be preprocessed"
   ]
  },
  {
   "cell_type": "code",
   "execution_count": 20,
   "id": "671b2e0a-3d0b-451e-bed1-358e3f69dc29",
   "metadata": {
    "tags": []
   },
   "outputs": [],
   "source": [
    "import pandas as pd\n",
    "import sys \n",
    "import os\n",
    "import csv\n",
    "#print(sys.path)\n",
    "#print(os.getcwd())\n",
    "\n",
    "sys.path.insert(0, '../../Lisa')\n",
    "import litkey_2\n",
    "\n",
    "# Do not truncate columns of DataFrame\n",
    "pd.set_option('display.max_rows', None)"
   ]
  },
  {
   "cell_type": "markdown",
   "id": "39563b92-b670-40ef-b82d-d2118c50e15a",
   "metadata": {},
   "source": [
    "## 1 - Get list of misspellings, preprocessed\n",
    "i. e. data_error_types\n",
    "- 'original' column only\n",
    "- export to txt oder csv"
   ]
  },
  {
   "cell_type": "code",
   "execution_count": 2,
   "id": "4694d794-3290-41af-8691-0d6a2df5a931",
   "metadata": {},
   "outputs": [
    {
     "name": "stderr",
     "output_type": "stream",
     "text": [
      "C:\\Users\\User\\bodu-spell\\spelling_correction\\Lisa\\Experiment_language_tool\\../../Lisa\\litkey_2.py:20: FutureWarning: In a future version of pandas all arguments of read_csv except for the argument 'filepath_or_buffer' will be keyword-only\n",
      "  data = helpers_litkey_2.combineCsvsToDataframe(litkey_data_path)\n"
     ]
    }
   ],
   "source": [
    "data_error_types = litkey_2.load(litkey_data_path = \"../../litkey-data/\")"
   ]
  },
  {
   "cell_type": "code",
   "execution_count": 3,
   "id": "bd5723cf-27f1-41ef-9e8c-2101f31cee4c",
   "metadata": {},
   "outputs": [
    {
     "data": {
      "text/html": [
       "<div>\n",
       "<style scoped>\n",
       "    .dataframe tbody tr th:only-of-type {\n",
       "        vertical-align: middle;\n",
       "    }\n",
       "\n",
       "    .dataframe tbody tr th {\n",
       "        vertical-align: top;\n",
       "    }\n",
       "\n",
       "    .dataframe thead th {\n",
       "        text-align: right;\n",
       "    }\n",
       "</style>\n",
       "<table border=\"1\" class=\"dataframe\">\n",
       "  <thead>\n",
       "    <tr style=\"text-align: right;\">\n",
       "      <th></th>\n",
       "      <th>original</th>\n",
       "      <th>corrected</th>\n",
       "      <th>filename</th>\n",
       "      <th>freq_ori</th>\n",
       "      <th>freq_cor</th>\n",
       "      <th>freq_tup</th>\n",
       "    </tr>\n",
       "  </thead>\n",
       "  <tbody>\n",
       "    <tr>\n",
       "      <th>0</th>\n",
       "      <td>belt</td>\n",
       "      <td>bellt</td>\n",
       "      <td>01-005-2-III-Eis.csv</td>\n",
       "      <td>91</td>\n",
       "      <td>138</td>\n",
       "      <td>91</td>\n",
       "    </tr>\n",
       "    <tr>\n",
       "      <th>1</th>\n",
       "      <td>kukt</td>\n",
       "      <td>kuckt</td>\n",
       "      <td>01-005-2-III-Eis.csv</td>\n",
       "      <td>73</td>\n",
       "      <td>152</td>\n",
       "      <td>73</td>\n",
       "    </tr>\n",
       "    <tr>\n",
       "      <th>2</th>\n",
       "      <td>dan</td>\n",
       "      <td>dann</td>\n",
       "      <td>01-005-2-III-Eis.csv</td>\n",
       "      <td>627</td>\n",
       "      <td>651</td>\n",
       "      <td>621</td>\n",
       "    </tr>\n",
       "    <tr>\n",
       "      <th>3</th>\n",
       "      <td>gekricht</td>\n",
       "      <td>gekriegt</td>\n",
       "      <td>01-005-2-III-Eis.csv</td>\n",
       "      <td>2</td>\n",
       "      <td>15</td>\n",
       "      <td>2</td>\n",
       "    </tr>\n",
       "    <tr>\n",
       "      <th>4</th>\n",
       "      <td>leken</td>\n",
       "      <td>lecken</td>\n",
       "      <td>01-005-2-III-Eis.csv</td>\n",
       "      <td>14</td>\n",
       "      <td>17</td>\n",
       "      <td>14</td>\n",
       "    </tr>\n",
       "    <tr>\n",
       "      <th>5</th>\n",
       "      <td>felt</td>\n",
       "      <td>fällt</td>\n",
       "      <td>01-005-2-III-Eis.csv</td>\n",
       "      <td>93</td>\n",
       "      <td>198</td>\n",
       "      <td>90</td>\n",
       "    </tr>\n",
       "    <tr>\n",
       "      <th>6</th>\n",
       "      <td>wolte</td>\n",
       "      <td>wollte</td>\n",
       "      <td>01-005-2-III-Eis.csv</td>\n",
       "      <td>173</td>\n",
       "      <td>201</td>\n",
       "      <td>173</td>\n",
       "    </tr>\n",
       "    <tr>\n",
       "      <th>7</th>\n",
       "      <td>lekt</td>\n",
       "      <td>leckt</td>\n",
       "      <td>01-005-2-III-Eis.csv</td>\n",
       "      <td>20</td>\n",
       "      <td>42</td>\n",
       "      <td>19</td>\n",
       "    </tr>\n",
       "    <tr>\n",
       "      <th>8</th>\n",
       "      <td>fom</td>\n",
       "      <td>vom</td>\n",
       "      <td>01-005-2-III-Eis.csv</td>\n",
       "      <td>13</td>\n",
       "      <td>16</td>\n",
       "      <td>13</td>\n",
       "    </tr>\n",
       "    <tr>\n",
       "      <th>9</th>\n",
       "      <td>gawen</td>\n",
       "      <td>kaufen</td>\n",
       "      <td>01-006-2-III-Eis.csv</td>\n",
       "      <td>1</td>\n",
       "      <td>6</td>\n",
       "      <td>1</td>\n",
       "    </tr>\n",
       "  </tbody>\n",
       "</table>\n",
       "</div>"
      ],
      "text/plain": [
       "   original corrected              filename  freq_ori  freq_cor  freq_tup\n",
       "0      belt     bellt  01-005-2-III-Eis.csv        91       138        91\n",
       "1      kukt     kuckt  01-005-2-III-Eis.csv        73       152        73\n",
       "2       dan      dann  01-005-2-III-Eis.csv       627       651       621\n",
       "3  gekricht  gekriegt  01-005-2-III-Eis.csv         2        15         2\n",
       "4     leken    lecken  01-005-2-III-Eis.csv        14        17        14\n",
       "5      felt     fällt  01-005-2-III-Eis.csv        93       198        90\n",
       "6     wolte    wollte  01-005-2-III-Eis.csv       173       201       173\n",
       "7      lekt     leckt  01-005-2-III-Eis.csv        20        42        19\n",
       "8       fom       vom  01-005-2-III-Eis.csv        13        16        13\n",
       "9     gawen    kaufen  01-006-2-III-Eis.csv         1         6         1"
      ]
     },
     "execution_count": 3,
     "metadata": {},
     "output_type": "execute_result"
    }
   ],
   "source": [
    "data_error_types.head(10)"
   ]
  },
  {
   "cell_type": "code",
   "execution_count": 4,
   "id": "e513a396-7881-4ef4-b21f-c37e331f73a0",
   "metadata": {},
   "outputs": [],
   "source": [
    "data_error_types_orig = data_error_types.original"
   ]
  },
  {
   "cell_type": "code",
   "execution_count": 5,
   "id": "460837ba-b2a6-465b-b5c1-6f085d7d4670",
   "metadata": {},
   "outputs": [
    {
     "data": {
      "text/plain": [
       "0        belt\n",
       "1        kukt\n",
       "2         dan\n",
       "3    gekricht\n",
       "4       leken\n",
       "5        felt\n",
       "6       wolte\n",
       "7        lekt\n",
       "8         fom\n",
       "9       gawen\n",
       "Name: original, dtype: object"
      ]
     },
     "execution_count": 5,
     "metadata": {},
     "output_type": "execute_result"
    }
   ],
   "source": [
    "data_error_types_orig.head(10)"
   ]
  },
  {
   "cell_type": "code",
   "execution_count": 6,
   "id": "dfe84575-162a-4d9c-a436-e03d7ca30ae2",
   "metadata": {},
   "outputs": [],
   "source": [
    "# Export\n",
    "data_error_types_orig.to_csv(\"data_error_types_origs.txt\", header=False, index=False)"
   ]
  },
  {
   "cell_type": "markdown",
   "id": "6dfc9c52-68ee-4203-9b37-3dfd2d534627",
   "metadata": {},
   "source": [
    "## 2 - Get continuous text\n",
    "- Exclude characters from normalisation\n",
    "    - ( NA-cases (line ends(^)) )\n",
    "    - ( headline markers (\\h) )\n",
    "    \n",
    "    \n",
    "    - \"|\" and \"_\", i. e. original is one/two-word whereas target is two/one-word\n",
    "    - intended line-break characters '^', '-^', '^-'"
   ]
  },
  {
   "cell_type": "code",
   "execution_count": 2,
   "id": "f1947037-4a00-4482-9001-f6a97a0b66b3",
   "metadata": {},
   "outputs": [],
   "source": [
    "# In data_raw_token, NA-cases and headline markers are already removed\n",
    "data_raw_token = litkey_2.load_raw(litkey_data_path = \"../../litkey-data/\")"
   ]
  },
  {
   "cell_type": "code",
   "execution_count": 3,
   "id": "73fa6e57-b8b1-4003-aece-4839a64f598c",
   "metadata": {},
   "outputs": [],
   "source": [
    "# Remove \"|\" and \"_\" characters, i. e. original is one/two-word whereas target is two/one-word\n",
    "data_raw_token['original']=data_raw_token['original'].str.replace(r'[\\|\\_]', '', regex=True)\n",
    "data_raw_token['corrected']=data_raw_token['corrected'].str.replace(r'[\\|\\_]', '', regex=True)\n",
    "    \n",
    "# Remove intended line-break characters '^', '-^', '^-'\n",
    "pattern = r'(\\-\\^)|(\\^\\-)|(\\^)'\n",
    "data_raw_token['original'] = data_raw_token['original'].str.replace(pattern, '', regex=True)\n",
    "\n",
    "\n",
    "# Remove words containing illegible character(s), i. e. containing '*' (original)\n",
    "data_raw_token = data_raw_token[~data_raw_token.original.str.contains(r'\\*')]\n",
    "    \n",
    "# Remove non-words ('?' target not identifiable or no standardized spelling | '~' target non existing word form)\n",
    "data_raw_token = data_raw_token[~data_raw_token.corrected.str.contains(r'\\?|\\~')]"
   ]
  },
  {
   "cell_type": "code",
   "execution_count": 4,
   "id": "0fe901b0-dfa0-414f-adf8-ee3ae6746ac1",
   "metadata": {},
   "outputs": [
    {
     "data": {
      "text/html": [
       "<div>\n",
       "<style scoped>\n",
       "    .dataframe tbody tr th:only-of-type {\n",
       "        vertical-align: middle;\n",
       "    }\n",
       "\n",
       "    .dataframe tbody tr th {\n",
       "        vertical-align: top;\n",
       "    }\n",
       "\n",
       "    .dataframe thead th {\n",
       "        text-align: right;\n",
       "    }\n",
       "</style>\n",
       "<table border=\"1\" class=\"dataframe\">\n",
       "  <thead>\n",
       "    <tr style=\"text-align: right;\">\n",
       "      <th></th>\n",
       "      <th>original</th>\n",
       "      <th>corrected</th>\n",
       "      <th>filename</th>\n",
       "    </tr>\n",
       "  </thead>\n",
       "  <tbody>\n",
       "    <tr>\n",
       "      <th>0</th>\n",
       "      <td>Lea</td>\n",
       "      <td>Lea</td>\n",
       "      <td>01-005-2-III-Eis.csv</td>\n",
       "    </tr>\n",
       "    <tr>\n",
       "      <th>1</th>\n",
       "      <td>und</td>\n",
       "      <td>und</td>\n",
       "      <td>01-005-2-III-Eis.csv</td>\n",
       "    </tr>\n",
       "    <tr>\n",
       "      <th>2</th>\n",
       "      <td>Lars</td>\n",
       "      <td>Lars</td>\n",
       "      <td>01-005-2-III-Eis.csv</td>\n",
       "    </tr>\n",
       "    <tr>\n",
       "      <th>3</th>\n",
       "      <td>und</td>\n",
       "      <td>und</td>\n",
       "      <td>01-005-2-III-Eis.csv</td>\n",
       "    </tr>\n",
       "    <tr>\n",
       "      <th>4</th>\n",
       "      <td>Dodo</td>\n",
       "      <td>Dodo</td>\n",
       "      <td>01-005-2-III-Eis.csv</td>\n",
       "    </tr>\n",
       "    <tr>\n",
       "      <th>5</th>\n",
       "      <td>gehen</td>\n",
       "      <td>gehen</td>\n",
       "      <td>01-005-2-III-Eis.csv</td>\n",
       "    </tr>\n",
       "    <tr>\n",
       "      <th>6</th>\n",
       "      <td>Eis</td>\n",
       "      <td>Eis</td>\n",
       "      <td>01-005-2-III-Eis.csv</td>\n",
       "    </tr>\n",
       "    <tr>\n",
       "      <th>7</th>\n",
       "      <td>kaufen</td>\n",
       "      <td>kaufen</td>\n",
       "      <td>01-005-2-III-Eis.csv</td>\n",
       "    </tr>\n",
       "    <tr>\n",
       "      <th>8</th>\n",
       "      <td>.</td>\n",
       "      <td>.</td>\n",
       "      <td>01-005-2-III-Eis.csv</td>\n",
       "    </tr>\n",
       "    <tr>\n",
       "      <th>9</th>\n",
       "      <td>Dodo</td>\n",
       "      <td>Dodo</td>\n",
       "      <td>01-005-2-III-Eis.csv</td>\n",
       "    </tr>\n",
       "  </tbody>\n",
       "</table>\n",
       "</div>"
      ],
      "text/plain": [
       "  original corrected              filename\n",
       "0      Lea       Lea  01-005-2-III-Eis.csv\n",
       "1      und       und  01-005-2-III-Eis.csv\n",
       "2     Lars      Lars  01-005-2-III-Eis.csv\n",
       "3      und       und  01-005-2-III-Eis.csv\n",
       "4     Dodo      Dodo  01-005-2-III-Eis.csv\n",
       "5    gehen     gehen  01-005-2-III-Eis.csv\n",
       "6      Eis       Eis  01-005-2-III-Eis.csv\n",
       "7   kaufen    kaufen  01-005-2-III-Eis.csv\n",
       "8        .         .  01-005-2-III-Eis.csv\n",
       "9     Dodo      Dodo  01-005-2-III-Eis.csv"
      ]
     },
     "metadata": {},
     "output_type": "display_data"
    },
    {
     "data": {
      "text/html": [
       "<div>\n",
       "<style scoped>\n",
       "    .dataframe tbody tr th:only-of-type {\n",
       "        vertical-align: middle;\n",
       "    }\n",
       "\n",
       "    .dataframe tbody tr th {\n",
       "        vertical-align: top;\n",
       "    }\n",
       "\n",
       "    .dataframe thead th {\n",
       "        text-align: right;\n",
       "    }\n",
       "</style>\n",
       "<table border=\"1\" class=\"dataframe\">\n",
       "  <thead>\n",
       "    <tr style=\"text-align: right;\">\n",
       "      <th></th>\n",
       "      <th>original</th>\n",
       "      <th>corrected</th>\n",
       "      <th>filename</th>\n",
       "    </tr>\n",
       "  </thead>\n",
       "  <tbody>\n",
       "    <tr>\n",
       "      <th>212493</th>\n",
       "      <td>zu</td>\n",
       "      <td>zu</td>\n",
       "      <td>10-693-4-IV-Weg.csv</td>\n",
       "    </tr>\n",
       "    <tr>\n",
       "      <th>212494</th>\n",
       "      <td>schenken</td>\n",
       "      <td>schenken</td>\n",
       "      <td>10-693-4-IV-Weg.csv</td>\n",
       "    </tr>\n",
       "    <tr>\n",
       "      <th>212495</th>\n",
       "      <td>.</td>\n",
       "      <td>.</td>\n",
       "      <td>10-693-4-IV-Weg.csv</td>\n",
       "    </tr>\n",
       "    <tr>\n",
       "      <th>212496</th>\n",
       "      <td>P.S.</td>\n",
       "      <td>P.S.</td>\n",
       "      <td>10-693-4-IV-Weg.csv</td>\n",
       "    </tr>\n",
       "    <tr>\n",
       "      <th>212497</th>\n",
       "      <td>Lars</td>\n",
       "      <td>Lars</td>\n",
       "      <td>10-693-4-IV-Weg.csv</td>\n",
       "    </tr>\n",
       "    <tr>\n",
       "      <th>212498</th>\n",
       "      <td>ist</td>\n",
       "      <td>ist</td>\n",
       "      <td>10-693-4-IV-Weg.csv</td>\n",
       "    </tr>\n",
       "    <tr>\n",
       "      <th>212499</th>\n",
       "      <td>in</td>\n",
       "      <td>in</td>\n",
       "      <td>10-693-4-IV-Weg.csv</td>\n",
       "    </tr>\n",
       "    <tr>\n",
       "      <th>212500</th>\n",
       "      <td>Lea</td>\n",
       "      <td>Lea</td>\n",
       "      <td>10-693-4-IV-Weg.csv</td>\n",
       "    </tr>\n",
       "    <tr>\n",
       "      <th>212501</th>\n",
       "      <td>verknallt</td>\n",
       "      <td>verknallt</td>\n",
       "      <td>10-693-4-IV-Weg.csv</td>\n",
       "    </tr>\n",
       "    <tr>\n",
       "      <th>212502</th>\n",
       "      <td>.</td>\n",
       "      <td>.</td>\n",
       "      <td>10-693-4-IV-Weg.csv</td>\n",
       "    </tr>\n",
       "  </tbody>\n",
       "</table>\n",
       "</div>"
      ],
      "text/plain": [
       "         original  corrected             filename\n",
       "212493         zu         zu  10-693-4-IV-Weg.csv\n",
       "212494   schenken   schenken  10-693-4-IV-Weg.csv\n",
       "212495          .          .  10-693-4-IV-Weg.csv\n",
       "212496       P.S.       P.S.  10-693-4-IV-Weg.csv\n",
       "212497       Lars       Lars  10-693-4-IV-Weg.csv\n",
       "212498        ist        ist  10-693-4-IV-Weg.csv\n",
       "212499         in         in  10-693-4-IV-Weg.csv\n",
       "212500        Lea        Lea  10-693-4-IV-Weg.csv\n",
       "212501  verknallt  verknallt  10-693-4-IV-Weg.csv\n",
       "212502          .          .  10-693-4-IV-Weg.csv"
      ]
     },
     "metadata": {},
     "output_type": "display_data"
    }
   ],
   "source": [
    "display(data_raw_token.head(10))\n",
    "display(data_raw_token.tail(10))"
   ]
  },
  {
   "cell_type": "code",
   "execution_count": 5,
   "id": "60c3f120-1ef7-4e8d-a787-b9aa7747e969",
   "metadata": {},
   "outputs": [
    {
     "name": "stdout",
     "output_type": "stream",
     "text": [
      "<class 'list'>\n",
      "<class 'list'>\n"
     ]
    },
    {
     "data": {
      "text/plain": [
       "1922"
      ]
     },
     "execution_count": 5,
     "metadata": {},
     "output_type": "execute_result"
    }
   ],
   "source": [
    "# for each filename\n",
    "storys = data_raw_token.filename.value_counts().index.to_list()\n",
    "print(type(storys)) # Series\n",
    "list(storys)\n",
    "print(type(storys))\n",
    "#type(storys[0]) # numpy int\n",
    "len(storys)"
   ]
  },
  {
   "cell_type": "code",
   "execution_count": 21,
   "id": "4b3358e0-b3fd-4b1b-96b2-3a97603b5bad",
   "metadata": {},
   "outputs": [],
   "source": [
    "# Export filewise\n",
    "import os\n",
    "for s in storys:\n",
    "    temp = data_raw_token[data_raw_token.filename==s]\n",
    "    s_cut = s.split('.csv')[0].strip()\n",
    "    temp.original.to_csv(os.path.join('Input_texts_csv/'+s_cut+'.csv'), sep='\\n', quoting=csv.QUOTE_NONE, header=False, index=False, encoding='utf-8')\n",
    "# Finish"
   ]
  },
  {
   "cell_type": "code",
   "execution_count": 12,
   "id": "98bd5063-93ba-4326-b3f3-920997d05d7f",
   "metadata": {},
   "outputs": [
    {
     "data": {
      "text/plain": [
       "'09-371-4-III-Seilbahn'"
      ]
     },
     "execution_count": 12,
     "metadata": {},
     "output_type": "execute_result"
    }
   ],
   "source": [
    "storys[1].split('.csv')[0].strip()"
   ]
  },
  {
   "cell_type": "code",
   "execution_count": 8,
   "id": "328e725d-0715-4fe8-9116-aa6a6377ebb6",
   "metadata": {},
   "outputs": [],
   "source": [
    "data_raw_token_orig = data_raw_token.original"
   ]
  },
  {
   "cell_type": "code",
   "execution_count": 9,
   "id": "870e9b5c-d82f-4768-8ec5-eebad18b0b17",
   "metadata": {},
   "outputs": [
    {
     "data": {
      "text/plain": [
       "0         Lea\n",
       "1         und\n",
       "2        Lars\n",
       "3         und\n",
       "4        Dodo\n",
       "5       gehen\n",
       "6         Eis\n",
       "7      kaufen\n",
       "8           .\n",
       "9        Dodo\n",
       "10       belt\n",
       "11        den\n",
       "12    Eismann\n",
       "13         an\n",
       "14          .\n",
       "15        der\n",
       "16    Eismann\n",
       "17       kukt\n",
       "18       Dodo\n",
       "19         an\n",
       "Name: original, dtype: object"
      ]
     },
     "execution_count": 9,
     "metadata": {},
     "output_type": "execute_result"
    }
   ],
   "source": [
    "data_raw_token_orig.head(20)"
   ]
  },
  {
   "cell_type": "code",
   "execution_count": 14,
   "id": "20b6843d-c3df-4417-9186-856feb209db6",
   "metadata": {},
   "outputs": [],
   "source": [
    "# Export\n",
    "data_raw_token_orig.to_csv(\"./Input/data_raw_token_LTprep_origs.csv\", sep='\\n', quotechar=\"'\" , header=False, index=False)"
   ]
  },
  {
   "cell_type": "code",
   "execution_count": null,
   "id": "5cc00684-d3a0-4a26-a320-435a3942305f",
   "metadata": {},
   "outputs": [],
   "source": []
  },
  {
   "cell_type": "code",
   "execution_count": null,
   "id": "455f18e3-41ab-4f21-9207-fb1adae27052",
   "metadata": {},
   "outputs": [],
   "source": []
  }
 ],
 "metadata": {
  "kernelspec": {
   "display_name": "bodu-spell_Env",
   "language": "python",
   "name": "bodu-spell_env"
  },
  "language_info": {
   "codemirror_mode": {
    "name": "ipython",
    "version": 3
   },
   "file_extension": ".py",
   "mimetype": "text/x-python",
   "name": "python",
   "nbconvert_exporter": "python",
   "pygments_lexer": "ipython3",
   "version": "3.9.6"
  }
 },
 "nbformat": 4,
 "nbformat_minor": 5
}
