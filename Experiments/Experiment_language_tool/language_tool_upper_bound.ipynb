{
 "cells": [
  {
   "cell_type": "markdown",
   "id": "ee8ffa60-b866-4174-b6f7-8ab2a4545a00",
   "metadata": {},
   "source": [
    "Aim: Define upper bound for language tool\n",
    "- Prepare \"corrected\" types for analysis\n",
    "    - Drop duplicates\n",
    "    - Export to processable format\n",
    "- Run analysis\n",
    "- Postprocess results, i. e. come up with ratios"
   ]
  },
  {
   "cell_type": "code",
   "execution_count": 1,
   "id": "a795598d-0eb7-4f0b-ad94-c7b930a4da9b",
   "metadata": {},
   "outputs": [],
   "source": [
    "import pandas as pd\n",
    "import sys \n",
    "import os\n",
    "#print(sys.path)\n",
    "#print(os.getcwd())\n",
    "\n",
    "sys.path.insert(0, '../../Lisa')\n",
    "import litkey_2\n",
    "\n",
    "# Do not truncate columns of DataFrame\n",
    "pd.set_option('display.max_rows', None)"
   ]
  },
  {
   "cell_type": "markdown",
   "id": "ada5c768-4e10-4e74-b933-ed4f9b8a8d38",
   "metadata": {},
   "source": [
    "## 1 - Prepare 'corrected' types for analysis\n",
    "- case sensitive\n",
    "- case insensitive"
   ]
  },
  {
   "cell_type": "markdown",
   "id": "1c92333b-4a9a-47ac-9270-83008bcd1c31",
   "metadata": {},
   "source": [
    "### Case sensitive"
   ]
  },
  {
   "cell_type": "code",
   "execution_count": 2,
   "id": "56740691-2a79-46d7-a749-e1f296579e62",
   "metadata": {},
   "outputs": [],
   "source": [
    "data_error_types = litkey_2.load(litkey_data_path = \"../../litkey-data/\")"
   ]
  },
  {
   "cell_type": "code",
   "execution_count": 3,
   "id": "0a308fde-65d2-4f42-a7f6-b92f2de59306",
   "metadata": {},
   "outputs": [
    {
     "data": {
      "text/plain": [
       "9484"
      ]
     },
     "metadata": {},
     "output_type": "display_data"
    },
    {
     "data": {
      "text/plain": [
       "3154"
      ]
     },
     "metadata": {},
     "output_type": "display_data"
    }
   ],
   "source": [
    "# Drop duplicates (corrected)\n",
    "data_error_types_corr = data_error_types.corrected\n",
    "display(data_error_types_corr.shape[0])\n",
    "data_error_types_corr.drop_duplicates(keep='first', inplace=True)\n",
    "display(data_error_types_corr.shape[0])"
   ]
  },
  {
   "cell_type": "code",
   "execution_count": 4,
   "id": "63276068-80eb-430c-8469-e4e9d2b87317",
   "metadata": {},
   "outputs": [
    {
     "data": {
      "text/plain": [
       "0         bellt\n",
       "1         kuckt\n",
       "2          dann\n",
       "3      gekriegt\n",
       "4        lecken\n",
       "5         fällt\n",
       "6        wollte\n",
       "7         leckt\n",
       "8           vom\n",
       "9        kaufen\n",
       "10          ein\n",
       "11         Geld\n",
       "12         Mann\n",
       "13        gehen\n",
       "14    nachhause\n",
       "15        essen\n",
       "16         aber\n",
       "17        geben\n",
       "21         will\n",
       "22         gibt\n",
       "Name: corrected, dtype: object"
      ]
     },
     "execution_count": 4,
     "metadata": {},
     "output_type": "execute_result"
    }
   ],
   "source": [
    "data_error_types_corr.head(20)"
   ]
  },
  {
   "cell_type": "code",
   "execution_count": 5,
   "id": "314158ec-4b50-4ff7-b7db-ceb08b06ecd3",
   "metadata": {},
   "outputs": [],
   "source": [
    "# Export\n",
    "#data_error_types_corr.to_csv(\"data_error_types_corrected_no_duplicates_UB.txt\", header=False, index=False)"
   ]
  },
  {
   "cell_type": "markdown",
   "id": "af7661ea-a3ba-429b-bcc0-cc8a21e7deec",
   "metadata": {},
   "source": [
    "### Case insensitive\n",
    "XXX"
   ]
  },
  {
   "cell_type": "code",
   "execution_count": 7,
   "id": "3921d24e-3e97-41e3-9fd7-d8eacb451416",
   "metadata": {},
   "outputs": [],
   "source": [
    "#data_error_types_lc = litkey_2.load(litkey_data_path = \"../../litkey-data/\", lower_case=True)"
   ]
  },
  {
   "cell_type": "code",
   "execution_count": 9,
   "id": "12a6b346-167e-47ef-8700-07745110540f",
   "metadata": {},
   "outputs": [
    {
     "data": {
      "text/plain": [
       "8594"
      ]
     },
     "execution_count": 9,
     "metadata": {},
     "output_type": "execute_result"
    }
   ],
   "source": [
    "#data_error_types_lc.shape[0]"
   ]
  },
  {
   "cell_type": "markdown",
   "id": "65a2812f-4678-4f22-b1f6-269df02dee44",
   "metadata": {},
   "source": [
    "❗️❗️❗️\n",
    "- As done with Hunspell. Titlecase all corrected words, use types case sensitive as base\n",
    "- ( This is because of reconstruction purpose for evaluation!!! )\n",
    "\n",
    "❗️❗️❗️"
   ]
  },
  {
   "cell_type": "code",
   "execution_count": 51,
   "id": "d73cde84-a2b8-49ec-a891-6ca2d8647b99",
   "metadata": {},
   "outputs": [],
   "source": [
    "# To merge with\n",
    "data_error_types.original = data_error_types.original.str.title()\n",
    "data_error_types.corrected = data_error_types.corrected.str.title()\n",
    "\n",
    "#data_error_types_corr_CI = data_error_types_corr.str.title()"
   ]
  },
  {
   "cell_type": "code",
   "execution_count": 52,
   "id": "b1e8fba8-b67a-41d0-8498-fce20e70eeac",
   "metadata": {},
   "outputs": [
    {
     "data": {
      "text/html": [
       "<div>\n",
       "<style scoped>\n",
       "    .dataframe tbody tr th:only-of-type {\n",
       "        vertical-align: middle;\n",
       "    }\n",
       "\n",
       "    .dataframe tbody tr th {\n",
       "        vertical-align: top;\n",
       "    }\n",
       "\n",
       "    .dataframe thead th {\n",
       "        text-align: right;\n",
       "    }\n",
       "</style>\n",
       "<table border=\"1\" class=\"dataframe\">\n",
       "  <thead>\n",
       "    <tr style=\"text-align: right;\">\n",
       "      <th></th>\n",
       "      <th>original</th>\n",
       "      <th>corrected</th>\n",
       "      <th>filename</th>\n",
       "      <th>freq_ori</th>\n",
       "      <th>freq_cor</th>\n",
       "      <th>freq_tup</th>\n",
       "    </tr>\n",
       "  </thead>\n",
       "  <tbody>\n",
       "    <tr>\n",
       "      <th>0</th>\n",
       "      <td>Belt</td>\n",
       "      <td>Bellt</td>\n",
       "      <td>01-005-2-III-Eis.csv</td>\n",
       "      <td>91</td>\n",
       "      <td>138</td>\n",
       "      <td>91</td>\n",
       "    </tr>\n",
       "    <tr>\n",
       "      <th>1</th>\n",
       "      <td>Kukt</td>\n",
       "      <td>Kuckt</td>\n",
       "      <td>01-005-2-III-Eis.csv</td>\n",
       "      <td>73</td>\n",
       "      <td>152</td>\n",
       "      <td>73</td>\n",
       "    </tr>\n",
       "    <tr>\n",
       "      <th>2</th>\n",
       "      <td>Dan</td>\n",
       "      <td>Dann</td>\n",
       "      <td>01-005-2-III-Eis.csv</td>\n",
       "      <td>627</td>\n",
       "      <td>651</td>\n",
       "      <td>621</td>\n",
       "    </tr>\n",
       "    <tr>\n",
       "      <th>3</th>\n",
       "      <td>Gekricht</td>\n",
       "      <td>Gekriegt</td>\n",
       "      <td>01-005-2-III-Eis.csv</td>\n",
       "      <td>2</td>\n",
       "      <td>15</td>\n",
       "      <td>2</td>\n",
       "    </tr>\n",
       "    <tr>\n",
       "      <th>4</th>\n",
       "      <td>Leken</td>\n",
       "      <td>Lecken</td>\n",
       "      <td>01-005-2-III-Eis.csv</td>\n",
       "      <td>14</td>\n",
       "      <td>17</td>\n",
       "      <td>14</td>\n",
       "    </tr>\n",
       "    <tr>\n",
       "      <th>5</th>\n",
       "      <td>Felt</td>\n",
       "      <td>Fällt</td>\n",
       "      <td>01-005-2-III-Eis.csv</td>\n",
       "      <td>93</td>\n",
       "      <td>198</td>\n",
       "      <td>90</td>\n",
       "    </tr>\n",
       "    <tr>\n",
       "      <th>6</th>\n",
       "      <td>Wolte</td>\n",
       "      <td>Wollte</td>\n",
       "      <td>01-005-2-III-Eis.csv</td>\n",
       "      <td>173</td>\n",
       "      <td>201</td>\n",
       "      <td>173</td>\n",
       "    </tr>\n",
       "    <tr>\n",
       "      <th>7</th>\n",
       "      <td>Lekt</td>\n",
       "      <td>Leckt</td>\n",
       "      <td>01-005-2-III-Eis.csv</td>\n",
       "      <td>20</td>\n",
       "      <td>42</td>\n",
       "      <td>19</td>\n",
       "    </tr>\n",
       "    <tr>\n",
       "      <th>8</th>\n",
       "      <td>Fom</td>\n",
       "      <td>Vom</td>\n",
       "      <td>01-005-2-III-Eis.csv</td>\n",
       "      <td>13</td>\n",
       "      <td>16</td>\n",
       "      <td>13</td>\n",
       "    </tr>\n",
       "    <tr>\n",
       "      <th>9</th>\n",
       "      <td>Gawen</td>\n",
       "      <td>Kaufen</td>\n",
       "      <td>01-006-2-III-Eis.csv</td>\n",
       "      <td>1</td>\n",
       "      <td>6</td>\n",
       "      <td>1</td>\n",
       "    </tr>\n",
       "  </tbody>\n",
       "</table>\n",
       "</div>"
      ],
      "text/plain": [
       "   original corrected              filename  freq_ori  freq_cor  freq_tup\n",
       "0      Belt     Bellt  01-005-2-III-Eis.csv        91       138        91\n",
       "1      Kukt     Kuckt  01-005-2-III-Eis.csv        73       152        73\n",
       "2       Dan      Dann  01-005-2-III-Eis.csv       627       651       621\n",
       "3  Gekricht  Gekriegt  01-005-2-III-Eis.csv         2        15         2\n",
       "4     Leken    Lecken  01-005-2-III-Eis.csv        14        17        14\n",
       "5      Felt     Fällt  01-005-2-III-Eis.csv        93       198        90\n",
       "6     Wolte    Wollte  01-005-2-III-Eis.csv       173       201       173\n",
       "7      Lekt     Leckt  01-005-2-III-Eis.csv        20        42        19\n",
       "8       Fom       Vom  01-005-2-III-Eis.csv        13        16        13\n",
       "9     Gawen    Kaufen  01-006-2-III-Eis.csv         1         6         1"
      ]
     },
     "execution_count": 52,
     "metadata": {},
     "output_type": "execute_result"
    }
   ],
   "source": [
    "data_error_types.head(10)"
   ]
  },
  {
   "cell_type": "code",
   "execution_count": 53,
   "id": "3e2566c0-0248-42ec-89be-e39ac8f7f312",
   "metadata": {},
   "outputs": [
    {
     "data": {
      "text/plain": [
       "9484"
      ]
     },
     "metadata": {},
     "output_type": "display_data"
    },
    {
     "data": {
      "text/plain": [
       "2960"
      ]
     },
     "metadata": {},
     "output_type": "display_data"
    }
   ],
   "source": [
    "data_error_types_corr = data_error_types.corrected\n",
    "display(data_error_types_corr.shape[0])\n",
    "data_error_types_corr.drop_duplicates(keep='first', inplace=True)\n",
    "display(data_error_types_corr.shape[0])"
   ]
  },
  {
   "cell_type": "code",
   "execution_count": 16,
   "id": "955e7ae9-3b9e-4193-b023-8c31de900058",
   "metadata": {},
   "outputs": [
    {
     "data": {
      "text/plain": [
       "2960"
      ]
     },
     "metadata": {},
     "output_type": "display_data"
    }
   ],
   "source": [
    "# Drop duplicates (corrected)\n",
    "#data_error_types_lc_corr = data_error_types_lc.corrected\n",
    "#display(data_error_types_lc_corr.shape[0])\n",
    "#data_error_types_corr_CI.drop_duplicates(keep='first', inplace=True)\n",
    "#display(data_error_types_corr_CI.shape[0])"
   ]
  },
  {
   "cell_type": "code",
   "execution_count": 17,
   "id": "1dcc2147-09a5-492c-801d-ee87c28b5cf7",
   "metadata": {},
   "outputs": [],
   "source": [
    "# Export\n",
    "#data_error_types_corr_CI.to_csv(\"data_error_types__corrected_CI_no_duplicates_UB.txt\", header=False, index=False)"
   ]
  },
  {
   "cell_type": "markdown",
   "id": "8b4e37a4-e361-4f4c-9459-284247e31cdc",
   "metadata": {},
   "source": [
    "## 2 - Run analysis"
   ]
  },
  {
   "cell_type": "code",
   "execution_count": 18,
   "id": "362fe8a7-ad37-4707-bc70-86d5b1c17d93",
   "metadata": {},
   "outputs": [],
   "source": [
    "import language_tool_python"
   ]
  },
  {
   "cell_type": "code",
   "execution_count": 19,
   "id": "927083cc-d8c1-45e4-864a-b448c8dd6a33",
   "metadata": {},
   "outputs": [],
   "source": [
    "# Initialize language tool object\n",
    "tool = language_tool_python.LanguageTool('de-DE')"
   ]
  },
  {
   "cell_type": "code",
   "execution_count": 20,
   "id": "9f107b83-9345-46a2-a6c5-a4c07e001b27",
   "metadata": {},
   "outputs": [],
   "source": [
    "# Open and read text file\n",
    "# readlines method returning list of strings\n",
    "\n",
    "#with open('data_error_types_corrected_no_duplicates_UB.txt', 'r') as f:\n",
    "with open('data_error_types__corrected_CI_no_duplicates_UB.txt', 'r') as f:\n",
    "    lines_n = f.readlines()"
   ]
  },
  {
   "cell_type": "code",
   "execution_count": 21,
   "id": "abe33b53-29a8-4e18-a7f7-62bbdfd1c812",
   "metadata": {},
   "outputs": [],
   "source": [
    "# Cut off linebreak (\\n) at end of each String\n",
    "# Otherwise each String is interpreted as sentence start (error: 'UPPERCASE_SENTENCE_START'), possibly bc of linebreak\n",
    "lines = [e.split('\\n')[0].strip() for e in lines_n]"
   ]
  },
  {
   "cell_type": "code",
   "execution_count": 22,
   "id": "8dd91b8e-34c8-4e8b-87c7-fd612f60e366",
   "metadata": {},
   "outputs": [],
   "source": [
    "# Take one line each (i. e. one original word) and generate list of matches\n",
    "# Append each match(-list) to list of suggestions\n",
    "\n",
    "suggestions = []\n",
    "for line in lines:\n",
    "    \n",
    "    # If any suggestion, append\n",
    "    if len(tool.check(line))>0:\n",
    "        suggestions.append(tool.check(line))\n",
    "        \n",
    "    # If no suggestion (i. e. correct word), append word (To merge back after)\n",
    "    elif len(tool.check(line))==0:\n",
    "        suggestions.append(line)"
   ]
  },
  {
   "cell_type": "code",
   "execution_count": 23,
   "id": "7772374e-25ac-43bf-baba-29a46c60ba24",
   "metadata": {},
   "outputs": [
    {
     "data": {
      "text/plain": [
       "True"
      ]
     },
     "execution_count": 23,
     "metadata": {},
     "output_type": "execute_result"
    }
   ],
   "source": [
    "suggestions\n",
    "type(suggestions[0]) == str # type str\n",
    "#type(suggestions[1]) == list # type list\n",
    "#suggestions[1][0]"
   ]
  },
  {
   "cell_type": "code",
   "execution_count": 32,
   "id": "cdc38b7c-8f97-4283-9511-eed1f4b35368",
   "metadata": {},
   "outputs": [
    {
     "data": {
      "text/plain": [
       "5"
      ]
     },
     "execution_count": 32,
     "metadata": {},
     "output_type": "execute_result"
    }
   ],
   "source": [
    "len(suggestions[0])\n",
    "#suggestions[1]"
   ]
  },
  {
   "cell_type": "code",
   "execution_count": 24,
   "id": "cb7515a2-8f39-49b3-9aee-8bc4ba7025c3",
   "metadata": {},
   "outputs": [
    {
     "name": "stdout",
     "output_type": "stream",
     "text": [
      "2960\n"
     ]
    }
   ],
   "source": [
    "# Filter out 0 suggetstions\n",
    "suggestions_1 = [s for s in suggestions if len(s)>0]\n",
    "print(len(suggestions_1)) # 221/3154 # 2960"
   ]
  },
  {
   "cell_type": "code",
   "execution_count": 46,
   "id": "9a83420b-e56c-476d-a0e9-cf913b0bb3eb",
   "metadata": {},
   "outputs": [],
   "source": [
    "# Have a look at errors\n",
    "#for s in suggestions_1:\n",
    "#    print(s[0].sentence, s[0].ruleId, s[0].replacements)"
   ]
  },
  {
   "cell_type": "markdown",
   "id": "2b93912d-2878-44cc-b561-9291ed2b8c84",
   "metadata": {},
   "source": [
    "## 3 - Postprocess results\n",
    "- Transform into right format\n",
    "    - Reconstruct for types\n",
    "    - Reconstruct for token\n",
    "- Ratios\n",
    "    - Types\n",
    "    - Token"
   ]
  },
  {
   "cell_type": "code",
   "execution_count": 33,
   "id": "5d4d3414-b6fe-430e-aa34-9c5d6a860c81",
   "metadata": {},
   "outputs": [],
   "source": [
    "# Extract mistakes and corrections\n",
    "my_mistakes = []\n",
    "my_corrections = []\n",
    "\n",
    "for line in suggestions:\n",
    "    if type(line) == list:\n",
    "        my_mistakes.append(line[0].sentence)\n",
    "        my_corrections.append(line[0].replacements)\n",
    "    elif type(line) == str:\n",
    "        my_mistakes.append(line)\n",
    "        my_corrections.append('')"
   ]
  },
  {
   "cell_type": "code",
   "execution_count": 34,
   "id": "41a67846-21c0-440d-87d2-d3c09e0474ee",
   "metadata": {},
   "outputs": [],
   "source": [
    "df_prep = list(zip(my_mistakes,my_corrections))\n",
    "df = pd.DataFrame(data=df_prep, columns=['corrected', 'suggestions'])"
   ]
  },
  {
   "cell_type": "code",
   "execution_count": 47,
   "id": "de326482-e3ad-4e02-9991-b7cd0ed0c583",
   "metadata": {},
   "outputs": [
    {
     "data": {
      "text/html": [
       "<div>\n",
       "<style scoped>\n",
       "    .dataframe tbody tr th:only-of-type {\n",
       "        vertical-align: middle;\n",
       "    }\n",
       "\n",
       "    .dataframe tbody tr th {\n",
       "        vertical-align: top;\n",
       "    }\n",
       "\n",
       "    .dataframe thead th {\n",
       "        text-align: right;\n",
       "    }\n",
       "</style>\n",
       "<table border=\"1\" class=\"dataframe\">\n",
       "  <thead>\n",
       "    <tr style=\"text-align: right;\">\n",
       "      <th></th>\n",
       "      <th>corrected</th>\n",
       "      <th>suggestions</th>\n",
       "    </tr>\n",
       "  </thead>\n",
       "  <tbody>\n",
       "    <tr>\n",
       "      <th>0</th>\n",
       "      <td>Bellt</td>\n",
       "      <td></td>\n",
       "    </tr>\n",
       "    <tr>\n",
       "      <th>1</th>\n",
       "      <td>Kuckt</td>\n",
       "      <td>[Rückt, Guckt, Zuckt, Zückt, Knickt, Bückt, Gl...</td>\n",
       "    </tr>\n",
       "    <tr>\n",
       "      <th>2</th>\n",
       "      <td>Dann</td>\n",
       "      <td></td>\n",
       "    </tr>\n",
       "    <tr>\n",
       "      <th>3</th>\n",
       "      <td>Gekriegt</td>\n",
       "      <td></td>\n",
       "    </tr>\n",
       "    <tr>\n",
       "      <th>4</th>\n",
       "      <td>Lecken</td>\n",
       "      <td></td>\n",
       "    </tr>\n",
       "    <tr>\n",
       "      <th>5</th>\n",
       "      <td>Fällt</td>\n",
       "      <td></td>\n",
       "    </tr>\n",
       "    <tr>\n",
       "      <th>6</th>\n",
       "      <td>Wollte</td>\n",
       "      <td></td>\n",
       "    </tr>\n",
       "    <tr>\n",
       "      <th>7</th>\n",
       "      <td>Leckt</td>\n",
       "      <td></td>\n",
       "    </tr>\n",
       "    <tr>\n",
       "      <th>8</th>\n",
       "      <td>Vom</td>\n",
       "      <td></td>\n",
       "    </tr>\n",
       "    <tr>\n",
       "      <th>9</th>\n",
       "      <td>Kaufen</td>\n",
       "      <td></td>\n",
       "    </tr>\n",
       "  </tbody>\n",
       "</table>\n",
       "</div>"
      ],
      "text/plain": [
       "  corrected                                        suggestions\n",
       "0     Bellt                                                   \n",
       "1     Kuckt  [Rückt, Guckt, Zuckt, Zückt, Knickt, Bückt, Gl...\n",
       "2      Dann                                                   \n",
       "3  Gekriegt                                                   \n",
       "4    Lecken                                                   \n",
       "5     Fällt                                                   \n",
       "6    Wollte                                                   \n",
       "7     Leckt                                                   \n",
       "8       Vom                                                   \n",
       "9    Kaufen                                                   "
      ]
     },
     "execution_count": 47,
     "metadata": {},
     "output_type": "execute_result"
    }
   ],
   "source": [
    "df.head(10)"
   ]
  },
  {
   "cell_type": "code",
   "execution_count": 35,
   "id": "44546d9a-4b09-4f24-ac6e-5d479d249b68",
   "metadata": {},
   "outputs": [],
   "source": [
    "# Serialize\n",
    "#df.to_pickle('/pickles/language_tool_analysis_corrected_suggestions_upper_bound.pkl')\n",
    "df.to_pickle('./pickles/language_tool_analysis_corrected_suggestions_upper_bound_case_insensitive.pkl')"
   ]
  },
  {
   "cell_type": "code",
   "execution_count": 113,
   "id": "6925ea0d-3cbf-4b55-a742-6b06fed38dbf",
   "metadata": {
    "tags": []
   },
   "outputs": [],
   "source": [
    "# Nan value is type float\n",
    "# data_error_types_suggs[data_error_types_suggs.suggestions.apply(type) == float] # 9186, 9189\n",
    "# type(df.suggestions[9186])\n",
    "#df.suggestions.fillna('', inplace=True)"
   ]
  },
  {
   "cell_type": "code",
   "execution_count": 54,
   "id": "6e146d31-6890-49f3-8951-c7fd0919e6da",
   "metadata": {},
   "outputs": [
    {
     "data": {
      "text/html": [
       "<div>\n",
       "<style scoped>\n",
       "    .dataframe tbody tr th:only-of-type {\n",
       "        vertical-align: middle;\n",
       "    }\n",
       "\n",
       "    .dataframe tbody tr th {\n",
       "        vertical-align: top;\n",
       "    }\n",
       "\n",
       "    .dataframe thead th {\n",
       "        text-align: right;\n",
       "    }\n",
       "</style>\n",
       "<table border=\"1\" class=\"dataframe\">\n",
       "  <thead>\n",
       "    <tr style=\"text-align: right;\">\n",
       "      <th></th>\n",
       "      <th>original</th>\n",
       "      <th>corrected</th>\n",
       "      <th>filename</th>\n",
       "      <th>freq_ori</th>\n",
       "      <th>freq_cor</th>\n",
       "      <th>freq_tup</th>\n",
       "    </tr>\n",
       "  </thead>\n",
       "  <tbody>\n",
       "    <tr>\n",
       "      <th>0</th>\n",
       "      <td>Belt</td>\n",
       "      <td>Bellt</td>\n",
       "      <td>01-005-2-III-Eis.csv</td>\n",
       "      <td>91</td>\n",
       "      <td>138</td>\n",
       "      <td>91</td>\n",
       "    </tr>\n",
       "    <tr>\n",
       "      <th>1</th>\n",
       "      <td>Kukt</td>\n",
       "      <td>Kuckt</td>\n",
       "      <td>01-005-2-III-Eis.csv</td>\n",
       "      <td>73</td>\n",
       "      <td>152</td>\n",
       "      <td>73</td>\n",
       "    </tr>\n",
       "    <tr>\n",
       "      <th>2</th>\n",
       "      <td>Dan</td>\n",
       "      <td>Dann</td>\n",
       "      <td>01-005-2-III-Eis.csv</td>\n",
       "      <td>627</td>\n",
       "      <td>651</td>\n",
       "      <td>621</td>\n",
       "    </tr>\n",
       "    <tr>\n",
       "      <th>3</th>\n",
       "      <td>Gekricht</td>\n",
       "      <td>Gekriegt</td>\n",
       "      <td>01-005-2-III-Eis.csv</td>\n",
       "      <td>2</td>\n",
       "      <td>15</td>\n",
       "      <td>2</td>\n",
       "    </tr>\n",
       "    <tr>\n",
       "      <th>4</th>\n",
       "      <td>Leken</td>\n",
       "      <td>Lecken</td>\n",
       "      <td>01-005-2-III-Eis.csv</td>\n",
       "      <td>14</td>\n",
       "      <td>17</td>\n",
       "      <td>14</td>\n",
       "    </tr>\n",
       "    <tr>\n",
       "      <th>5</th>\n",
       "      <td>Felt</td>\n",
       "      <td>Fällt</td>\n",
       "      <td>01-005-2-III-Eis.csv</td>\n",
       "      <td>93</td>\n",
       "      <td>198</td>\n",
       "      <td>90</td>\n",
       "    </tr>\n",
       "    <tr>\n",
       "      <th>6</th>\n",
       "      <td>Wolte</td>\n",
       "      <td>Wollte</td>\n",
       "      <td>01-005-2-III-Eis.csv</td>\n",
       "      <td>173</td>\n",
       "      <td>201</td>\n",
       "      <td>173</td>\n",
       "    </tr>\n",
       "    <tr>\n",
       "      <th>7</th>\n",
       "      <td>Lekt</td>\n",
       "      <td>Leckt</td>\n",
       "      <td>01-005-2-III-Eis.csv</td>\n",
       "      <td>20</td>\n",
       "      <td>42</td>\n",
       "      <td>19</td>\n",
       "    </tr>\n",
       "    <tr>\n",
       "      <th>8</th>\n",
       "      <td>Fom</td>\n",
       "      <td>Vom</td>\n",
       "      <td>01-005-2-III-Eis.csv</td>\n",
       "      <td>13</td>\n",
       "      <td>16</td>\n",
       "      <td>13</td>\n",
       "    </tr>\n",
       "    <tr>\n",
       "      <th>9</th>\n",
       "      <td>Gawen</td>\n",
       "      <td>Kaufen</td>\n",
       "      <td>01-006-2-III-Eis.csv</td>\n",
       "      <td>1</td>\n",
       "      <td>6</td>\n",
       "      <td>1</td>\n",
       "    </tr>\n",
       "  </tbody>\n",
       "</table>\n",
       "</div>"
      ],
      "text/plain": [
       "   original corrected              filename  freq_ori  freq_cor  freq_tup\n",
       "0      Belt     Bellt  01-005-2-III-Eis.csv        91       138        91\n",
       "1      Kukt     Kuckt  01-005-2-III-Eis.csv        73       152        73\n",
       "2       Dan      Dann  01-005-2-III-Eis.csv       627       651       621\n",
       "3  Gekricht  Gekriegt  01-005-2-III-Eis.csv         2        15         2\n",
       "4     Leken    Lecken  01-005-2-III-Eis.csv        14        17        14\n",
       "5      Felt     Fällt  01-005-2-III-Eis.csv        93       198        90\n",
       "6     Wolte    Wollte  01-005-2-III-Eis.csv       173       201       173\n",
       "7      Lekt     Leckt  01-005-2-III-Eis.csv        20        42        19\n",
       "8       Fom       Vom  01-005-2-III-Eis.csv        13        16        13\n",
       "9     Gawen    Kaufen  01-006-2-III-Eis.csv         1         6         1"
      ]
     },
     "execution_count": 54,
     "metadata": {},
     "output_type": "execute_result"
    }
   ],
   "source": [
    "data_error_types.head(10)"
   ]
  },
  {
   "cell_type": "code",
   "execution_count": 55,
   "id": "f5bffa03-d253-457c-bd77-0e8e9cf0b618",
   "metadata": {
    "tags": []
   },
   "outputs": [],
   "source": [
    "# Reconstruct original df (data_error_types); TYPES\n",
    "data_error_types_suggs = pd.merge(data_error_types, df, how='left', on='corrected')"
   ]
  },
  {
   "cell_type": "code",
   "execution_count": 56,
   "id": "089807a0-7f1d-42e7-9ba5-07ea9d20629d",
   "metadata": {},
   "outputs": [
    {
     "data": {
      "text/html": [
       "<div>\n",
       "<style scoped>\n",
       "    .dataframe tbody tr th:only-of-type {\n",
       "        vertical-align: middle;\n",
       "    }\n",
       "\n",
       "    .dataframe tbody tr th {\n",
       "        vertical-align: top;\n",
       "    }\n",
       "\n",
       "    .dataframe thead th {\n",
       "        text-align: right;\n",
       "    }\n",
       "</style>\n",
       "<table border=\"1\" class=\"dataframe\">\n",
       "  <thead>\n",
       "    <tr style=\"text-align: right;\">\n",
       "      <th></th>\n",
       "      <th>original</th>\n",
       "      <th>corrected</th>\n",
       "      <th>filename</th>\n",
       "      <th>freq_ori</th>\n",
       "      <th>freq_cor</th>\n",
       "      <th>freq_tup</th>\n",
       "      <th>suggestions</th>\n",
       "    </tr>\n",
       "  </thead>\n",
       "  <tbody>\n",
       "    <tr>\n",
       "      <th>0</th>\n",
       "      <td>Belt</td>\n",
       "      <td>Bellt</td>\n",
       "      <td>01-005-2-III-Eis.csv</td>\n",
       "      <td>91</td>\n",
       "      <td>138</td>\n",
       "      <td>91</td>\n",
       "      <td></td>\n",
       "    </tr>\n",
       "    <tr>\n",
       "      <th>1</th>\n",
       "      <td>Kukt</td>\n",
       "      <td>Kuckt</td>\n",
       "      <td>01-005-2-III-Eis.csv</td>\n",
       "      <td>73</td>\n",
       "      <td>152</td>\n",
       "      <td>73</td>\n",
       "      <td>[Rückt, Guckt, Zuckt, Zückt, Knickt, Bückt, Gl...</td>\n",
       "    </tr>\n",
       "    <tr>\n",
       "      <th>2</th>\n",
       "      <td>Dan</td>\n",
       "      <td>Dann</td>\n",
       "      <td>01-005-2-III-Eis.csv</td>\n",
       "      <td>627</td>\n",
       "      <td>651</td>\n",
       "      <td>621</td>\n",
       "      <td></td>\n",
       "    </tr>\n",
       "    <tr>\n",
       "      <th>3</th>\n",
       "      <td>Gekricht</td>\n",
       "      <td>Gekriegt</td>\n",
       "      <td>01-005-2-III-Eis.csv</td>\n",
       "      <td>2</td>\n",
       "      <td>15</td>\n",
       "      <td>2</td>\n",
       "      <td></td>\n",
       "    </tr>\n",
       "    <tr>\n",
       "      <th>4</th>\n",
       "      <td>Leken</td>\n",
       "      <td>Lecken</td>\n",
       "      <td>01-005-2-III-Eis.csv</td>\n",
       "      <td>14</td>\n",
       "      <td>17</td>\n",
       "      <td>14</td>\n",
       "      <td></td>\n",
       "    </tr>\n",
       "    <tr>\n",
       "      <th>5</th>\n",
       "      <td>Felt</td>\n",
       "      <td>Fällt</td>\n",
       "      <td>01-005-2-III-Eis.csv</td>\n",
       "      <td>93</td>\n",
       "      <td>198</td>\n",
       "      <td>90</td>\n",
       "      <td></td>\n",
       "    </tr>\n",
       "    <tr>\n",
       "      <th>6</th>\n",
       "      <td>Wolte</td>\n",
       "      <td>Wollte</td>\n",
       "      <td>01-005-2-III-Eis.csv</td>\n",
       "      <td>173</td>\n",
       "      <td>201</td>\n",
       "      <td>173</td>\n",
       "      <td></td>\n",
       "    </tr>\n",
       "    <tr>\n",
       "      <th>7</th>\n",
       "      <td>Lekt</td>\n",
       "      <td>Leckt</td>\n",
       "      <td>01-005-2-III-Eis.csv</td>\n",
       "      <td>20</td>\n",
       "      <td>42</td>\n",
       "      <td>19</td>\n",
       "      <td></td>\n",
       "    </tr>\n",
       "    <tr>\n",
       "      <th>8</th>\n",
       "      <td>Fom</td>\n",
       "      <td>Vom</td>\n",
       "      <td>01-005-2-III-Eis.csv</td>\n",
       "      <td>13</td>\n",
       "      <td>16</td>\n",
       "      <td>13</td>\n",
       "      <td></td>\n",
       "    </tr>\n",
       "    <tr>\n",
       "      <th>9</th>\n",
       "      <td>Gawen</td>\n",
       "      <td>Kaufen</td>\n",
       "      <td>01-006-2-III-Eis.csv</td>\n",
       "      <td>1</td>\n",
       "      <td>6</td>\n",
       "      <td>1</td>\n",
       "      <td></td>\n",
       "    </tr>\n",
       "  </tbody>\n",
       "</table>\n",
       "</div>"
      ],
      "text/plain": [
       "   original corrected              filename  freq_ori  freq_cor  freq_tup  \\\n",
       "0      Belt     Bellt  01-005-2-III-Eis.csv        91       138        91   \n",
       "1      Kukt     Kuckt  01-005-2-III-Eis.csv        73       152        73   \n",
       "2       Dan      Dann  01-005-2-III-Eis.csv       627       651       621   \n",
       "3  Gekricht  Gekriegt  01-005-2-III-Eis.csv         2        15         2   \n",
       "4     Leken    Lecken  01-005-2-III-Eis.csv        14        17        14   \n",
       "5      Felt     Fällt  01-005-2-III-Eis.csv        93       198        90   \n",
       "6     Wolte    Wollte  01-005-2-III-Eis.csv       173       201       173   \n",
       "7      Lekt     Leckt  01-005-2-III-Eis.csv        20        42        19   \n",
       "8       Fom       Vom  01-005-2-III-Eis.csv        13        16        13   \n",
       "9     Gawen    Kaufen  01-006-2-III-Eis.csv         1         6         1   \n",
       "\n",
       "                                         suggestions  \n",
       "0                                                     \n",
       "1  [Rückt, Guckt, Zuckt, Zückt, Knickt, Bückt, Gl...  \n",
       "2                                                     \n",
       "3                                                     \n",
       "4                                                     \n",
       "5                                                     \n",
       "6                                                     \n",
       "7                                                     \n",
       "8                                                     \n",
       "9                                                     "
      ]
     },
     "execution_count": 56,
     "metadata": {},
     "output_type": "execute_result"
    }
   ],
   "source": [
    "data_error_types_suggs.head(10)"
   ]
  },
  {
   "cell_type": "code",
   "execution_count": 57,
   "id": "0bdcb558-06c1-46bc-b2ab-03ec5afa576e",
   "metadata": {},
   "outputs": [],
   "source": [
    "# Fillna\n",
    "# Nan value is type float\n",
    "# data_error_types_suggs[data_error_types_suggs.suggestions.apply(type) == float] # 9186, 9189\n",
    "# type(df.suggestions[9186])\n",
    "data_error_types_suggs.suggestions.fillna('', inplace=True)"
   ]
  },
  {
   "cell_type": "code",
   "execution_count": 58,
   "id": "0cbb57f4-2fdf-4317-9141-4f878ee739c0",
   "metadata": {},
   "outputs": [],
   "source": [
    "# Reconstruct original df; TOKEN\n",
    "data_error_token = litkey_2.load(litkey_data_path = \"../../litkey-data/\", toss_duplicates=False)\n",
    "data_error_token.original = data_error_token.original.str.title()\n",
    "data_error_token.corrected = data_error_token.corrected.str.title()"
   ]
  },
  {
   "cell_type": "code",
   "execution_count": 59,
   "id": "126714a7-4b5a-48ea-be55-d93369fefa35",
   "metadata": {},
   "outputs": [],
   "source": [
    "data_error_token_suggs = pd.merge(data_error_token, df, how='left', on='corrected')"
   ]
  },
  {
   "cell_type": "code",
   "execution_count": 60,
   "id": "8943d44c-2213-4a73-a4a5-cbd6bd6c6d66",
   "metadata": {},
   "outputs": [],
   "source": [
    "# Fillna\n",
    "data_error_token_suggs.suggestions.fillna('', inplace=True)"
   ]
  },
  {
   "cell_type": "code",
   "execution_count": 61,
   "id": "0ffde58d-1608-4060-9bfc-f15879832554",
   "metadata": {},
   "outputs": [
    {
     "data": {
      "text/plain": [
       "(9484, 7)"
      ]
     },
     "execution_count": 61,
     "metadata": {},
     "output_type": "execute_result"
    }
   ],
   "source": [
    "#data_error_types_suggs.shape"
   ]
  },
  {
   "cell_type": "markdown",
   "id": "4b0f9e87-953c-4293-a7da-6aa1dabe3562",
   "metadata": {},
   "source": [
    "### Get ratios (upper bound)\n",
    "- Types\n",
    "- Token"
   ]
  },
  {
   "cell_type": "code",
   "execution_count": 109,
   "id": "7b22157f-3c75-4c59-ac0d-dd1f89ad0257",
   "metadata": {},
   "outputs": [
    {
     "data": {
      "text/plain": [
       "'Language Tool recognizes as not correct...'"
      ]
     },
     "metadata": {},
     "output_type": "display_data"
    },
    {
     "data": {
      "text/html": [
       "<div>\n",
       "<style scoped>\n",
       "    .dataframe tbody tr th:only-of-type {\n",
       "        vertical-align: middle;\n",
       "    }\n",
       "\n",
       "    .dataframe tbody tr th {\n",
       "        vertical-align: top;\n",
       "    }\n",
       "\n",
       "    .dataframe thead th {\n",
       "        text-align: right;\n",
       "    }\n",
       "</style>\n",
       "<table border=\"1\" class=\"dataframe\">\n",
       "  <thead>\n",
       "    <tr style=\"text-align: right;\">\n",
       "      <th></th>\n",
       "      <th>original</th>\n",
       "      <th>corrected</th>\n",
       "      <th>filename</th>\n",
       "      <th>freq_ori</th>\n",
       "      <th>freq_cor</th>\n",
       "      <th>freq_tup</th>\n",
       "      <th>suggestions</th>\n",
       "    </tr>\n",
       "  </thead>\n",
       "  <tbody>\n",
       "    <tr>\n",
       "      <th>1</th>\n",
       "      <td>kukt</td>\n",
       "      <td>kuckt</td>\n",
       "      <td>01-005-2-III-Eis.csv</td>\n",
       "      <td>73</td>\n",
       "      <td>152</td>\n",
       "      <td>73</td>\n",
       "      <td>[guckt, rückt, knickt, glückt, zuckt, zückt, b...</td>\n",
       "    </tr>\n",
       "    <tr>\n",
       "      <th>63</th>\n",
       "      <td>runtergefalen</td>\n",
       "      <td>runtergefallen</td>\n",
       "      <td>01-029-2-III-Eis.csv</td>\n",
       "      <td>12</td>\n",
       "      <td>28</td>\n",
       "      <td>12</td>\n",
       "      <td>[heruntergefallen]</td>\n",
       "    </tr>\n",
       "    <tr>\n",
       "      <th>79</th>\n",
       "      <td>rich</td>\n",
       "      <td>riech</td>\n",
       "      <td>01-045-2-III-Eis.csv</td>\n",
       "      <td>2</td>\n",
       "      <td>2</td>\n",
       "      <td>2</td>\n",
       "      <td>[Sieg, reich, riecht, bieg, lieg, rieche, siec...</td>\n",
       "    </tr>\n",
       "    <tr>\n",
       "      <th>233</th>\n",
       "      <td>Eerber</td>\n",
       "      <td>Erdbeer</td>\n",
       "      <td>01-122-2-III-Eis.csv</td>\n",
       "      <td>1</td>\n",
       "      <td>3</td>\n",
       "      <td>1</td>\n",
       "      <td>[Erdbeere, Erdmeer, Erdheer, Erdteer, Erdiger,...</td>\n",
       "    </tr>\n",
       "    <tr>\n",
       "      <th>237</th>\n",
       "      <td>sis</td>\n",
       "      <td>sies</td>\n",
       "      <td>01-122-2-III-Eis.csv</td>\n",
       "      <td>2</td>\n",
       "      <td>1</td>\n",
       "      <td>1</td>\n",
       "      <td>[sie, dies, ließ, hieß, wies, Kies, Ries, lies...</td>\n",
       "    </tr>\n",
       "    <tr>\n",
       "      <th>259</th>\n",
       "      <td>vars</td>\n",
       "      <td>wars</td>\n",
       "      <td>01-127-2-III-Eis.csv</td>\n",
       "      <td>1</td>\n",
       "      <td>2</td>\n",
       "      <td>1</td>\n",
       "      <td>[war's, war es, warst, wärs, war, was, März, w...</td>\n",
       "    </tr>\n",
       "    <tr>\n",
       "      <th>260</th>\n",
       "      <td>Trupf</td>\n",
       "      <td>tropf</td>\n",
       "      <td>01-128-2-III-Eis.csv</td>\n",
       "      <td>1</td>\n",
       "      <td>1</td>\n",
       "      <td>1</td>\n",
       "      <td>[Tropf, traf, tropft, Kropf, doof, triff, trof...</td>\n",
       "    </tr>\n",
       "    <tr>\n",
       "      <th>261</th>\n",
       "      <td>Schupfs</td>\n",
       "      <td>schups</td>\n",
       "      <td>01-128-2-III-Eis.csv</td>\n",
       "      <td>1</td>\n",
       "      <td>1</td>\n",
       "      <td>1</td>\n",
       "      <td>[schubs, Schubs, schubse, schubst, schwups, sc...</td>\n",
       "    </tr>\n",
       "    <tr>\n",
       "      <th>267</th>\n",
       "      <td>runterfale</td>\n",
       "      <td>runterfallen</td>\n",
       "      <td>01-128-2-III-Eis.csv</td>\n",
       "      <td>1</td>\n",
       "      <td>2</td>\n",
       "      <td>1</td>\n",
       "      <td>[herunterfallen]</td>\n",
       "    </tr>\n",
       "    <tr>\n",
       "      <th>308</th>\n",
       "      <td>rumtergefalen</td>\n",
       "      <td>runtergefallen</td>\n",
       "      <td>01-139-2-III-Eis.csv</td>\n",
       "      <td>1</td>\n",
       "      <td>28</td>\n",
       "      <td>1</td>\n",
       "      <td>[heruntergefallen]</td>\n",
       "    </tr>\n",
       "    <tr>\n",
       "      <th>309</th>\n",
       "      <td>haz</td>\n",
       "      <td>hats</td>\n",
       "      <td>01-139-2-III-Eis.csv</td>\n",
       "      <td>1</td>\n",
       "      <td>4</td>\n",
       "      <td>1</td>\n",
       "      <td>[hat es, hat, Satz, hast, Katz, Rads, Bads, Ch...</td>\n",
       "    </tr>\n",
       "    <tr>\n",
       "      <th>358</th>\n",
       "      <td>dakechön</td>\n",
       "      <td>dankeschön</td>\n",
       "      <td>01-161-2-III-Eis.csv</td>\n",
       "      <td>1</td>\n",
       "      <td>3</td>\n",
       "      <td>1</td>\n",
       "      <td>[Dankeschön, danke schön, danke Schön, dank-ge...</td>\n",
       "    </tr>\n",
       "    <tr>\n",
       "      <th>418</th>\n",
       "      <td>rundtgefalen</td>\n",
       "      <td>runtergefallen</td>\n",
       "      <td>01-194-2-III-Eis.csv</td>\n",
       "      <td>1</td>\n",
       "      <td>28</td>\n",
       "      <td>1</td>\n",
       "      <td>[heruntergefallen]</td>\n",
       "    </tr>\n",
       "    <tr>\n",
       "      <th>488</th>\n",
       "      <td>rundergefalen</td>\n",
       "      <td>runtergefallen</td>\n",
       "      <td>01-232-2-III-Eis.csv</td>\n",
       "      <td>3</td>\n",
       "      <td>28</td>\n",
       "      <td>3</td>\n",
       "      <td>[heruntergefallen]</td>\n",
       "    </tr>\n",
       "    <tr>\n",
       "      <th>504</th>\n",
       "      <td>Keb</td>\n",
       "      <td>geb</td>\n",
       "      <td>01-246-2-III-Eis.csv</td>\n",
       "      <td>1</td>\n",
       "      <td>1</td>\n",
       "      <td>1</td>\n",
       "      <td>[gebe, gäb, gab, gelb, gen, gäbe, geh, gib, ke...</td>\n",
       "    </tr>\n",
       "    <tr>\n",
       "      <th>518</th>\n",
       "      <td>Schockokugel</td>\n",
       "      <td>Schokokugel</td>\n",
       "      <td>01-265-2-III-Eis.csv</td>\n",
       "      <td>1</td>\n",
       "      <td>1</td>\n",
       "      <td>1</td>\n",
       "      <td>[Schoko kugel, Schoko Kugel, Schokokuchen, Gol...</td>\n",
       "    </tr>\n",
       "    <tr>\n",
       "      <th>526</th>\n",
       "      <td>gelink</td>\n",
       "      <td>geling</td>\n",
       "      <td>01-274-2-III-Eis.csv</td>\n",
       "      <td>1</td>\n",
       "      <td>1</td>\n",
       "      <td>1</td>\n",
       "      <td>[gelang, gelingt, gering, gelinge, gelyncht, g...</td>\n",
       "    </tr>\n",
       "    <tr>\n",
       "      <th>536</th>\n",
       "      <td>runtagefalen</td>\n",
       "      <td>runtergefallen</td>\n",
       "      <td>01-275-2-III-Eis.csv</td>\n",
       "      <td>1</td>\n",
       "      <td>28</td>\n",
       "      <td>1</td>\n",
       "      <td>[heruntergefallen]</td>\n",
       "    </tr>\n",
       "    <tr>\n",
       "      <th>542</th>\n",
       "      <td>ertber</td>\n",
       "      <td>Erdbeer</td>\n",
       "      <td>01-275-2-III-Eis.csv</td>\n",
       "      <td>1</td>\n",
       "      <td>3</td>\n",
       "      <td>1</td>\n",
       "      <td>[Erdbeere, Erdmeer, Erdheer, Erdteer, Erdiger,...</td>\n",
       "    </tr>\n",
       "    <tr>\n",
       "      <th>547</th>\n",
       "      <td>Etber</td>\n",
       "      <td>Erdbeer</td>\n",
       "      <td>01-277-2-III-Eis.csv</td>\n",
       "      <td>1</td>\n",
       "      <td>3</td>\n",
       "      <td>1</td>\n",
       "      <td>[Erdbeere, Erdmeer, Erdheer, Erdteer, Erdiger,...</td>\n",
       "    </tr>\n",
       "  </tbody>\n",
       "</table>\n",
       "</div>"
      ],
      "text/plain": [
       "          original       corrected              filename  freq_ori  freq_cor  \\\n",
       "1             kukt           kuckt  01-005-2-III-Eis.csv        73       152   \n",
       "63   runtergefalen  runtergefallen  01-029-2-III-Eis.csv        12        28   \n",
       "79            rich           riech  01-045-2-III-Eis.csv         2         2   \n",
       "233         Eerber         Erdbeer  01-122-2-III-Eis.csv         1         3   \n",
       "237            sis            sies  01-122-2-III-Eis.csv         2         1   \n",
       "259           vars            wars  01-127-2-III-Eis.csv         1         2   \n",
       "260          Trupf           tropf  01-128-2-III-Eis.csv         1         1   \n",
       "261        Schupfs          schups  01-128-2-III-Eis.csv         1         1   \n",
       "267     runterfale    runterfallen  01-128-2-III-Eis.csv         1         2   \n",
       "308  rumtergefalen  runtergefallen  01-139-2-III-Eis.csv         1        28   \n",
       "309            haz            hats  01-139-2-III-Eis.csv         1         4   \n",
       "358       dakechön      dankeschön  01-161-2-III-Eis.csv         1         3   \n",
       "418   rundtgefalen  runtergefallen  01-194-2-III-Eis.csv         1        28   \n",
       "488  rundergefalen  runtergefallen  01-232-2-III-Eis.csv         3        28   \n",
       "504            Keb             geb  01-246-2-III-Eis.csv         1         1   \n",
       "518   Schockokugel     Schokokugel  01-265-2-III-Eis.csv         1         1   \n",
       "526         gelink          geling  01-274-2-III-Eis.csv         1         1   \n",
       "536   runtagefalen  runtergefallen  01-275-2-III-Eis.csv         1        28   \n",
       "542         ertber         Erdbeer  01-275-2-III-Eis.csv         1         3   \n",
       "547          Etber         Erdbeer  01-277-2-III-Eis.csv         1         3   \n",
       "\n",
       "     freq_tup                                        suggestions  \n",
       "1          73  [guckt, rückt, knickt, glückt, zuckt, zückt, b...  \n",
       "63         12                                 [heruntergefallen]  \n",
       "79          2  [Sieg, reich, riecht, bieg, lieg, rieche, siec...  \n",
       "233         1  [Erdbeere, Erdmeer, Erdheer, Erdteer, Erdiger,...  \n",
       "237         1  [sie, dies, ließ, hieß, wies, Kies, Ries, lies...  \n",
       "259         1  [war's, war es, warst, wärs, war, was, März, w...  \n",
       "260         1  [Tropf, traf, tropft, Kropf, doof, triff, trof...  \n",
       "261         1  [schubs, Schubs, schubse, schubst, schwups, sc...  \n",
       "267         1                                   [herunterfallen]  \n",
       "308         1                                 [heruntergefallen]  \n",
       "309         1  [hat es, hat, Satz, hast, Katz, Rads, Bads, Ch...  \n",
       "358         1  [Dankeschön, danke schön, danke Schön, dank-ge...  \n",
       "418         1                                 [heruntergefallen]  \n",
       "488         3                                 [heruntergefallen]  \n",
       "504         1  [gebe, gäb, gab, gelb, gen, gäbe, geh, gib, ke...  \n",
       "518         1  [Schoko kugel, Schoko Kugel, Schokokuchen, Gol...  \n",
       "526         1  [gelang, gelingt, gering, gelinge, gelyncht, g...  \n",
       "536         1                                 [heruntergefallen]  \n",
       "542         1  [Erdbeere, Erdmeer, Erdheer, Erdteer, Erdiger,...  \n",
       "547         1  [Erdbeere, Erdmeer, Erdheer, Erdteer, Erdiger,...  "
      ]
     },
     "metadata": {},
     "output_type": "display_data"
    }
   ],
   "source": [
    "# Types (case sensitive)\n",
    "ct_not_right = data_error_types_suggs[data_error_types_suggs.suggestions.apply(len).gt(0)].shape[0] # check for length greater than 0, i. e. list not empty\n",
    "ct_right = data_error_types_suggs[~data_error_types_suggs.suggestions.apply(len).gt(0)].shape[0] # not right is either false or not recognized\n",
    "display('Language Tool recognizes as not correct...', data_error_types_suggs[data_error_types_suggs.suggestions.apply(len).gt(0)].head(20))"
   ]
  },
  {
   "cell_type": "code",
   "execution_count": 110,
   "id": "87786e9a-202a-4da5-af9c-01c34df1e503",
   "metadata": {},
   "outputs": [
    {
     "data": {
      "text/plain": [
       "335"
      ]
     },
     "metadata": {},
     "output_type": "display_data"
    },
    {
     "data": {
      "text/plain": [
       "9149"
      ]
     },
     "metadata": {},
     "output_type": "display_data"
    },
    {
     "data": {
      "text/plain": [
       "9484"
      ]
     },
     "metadata": {},
     "output_type": "display_data"
    },
    {
     "name": "stdout",
     "output_type": "stream",
     "text": [
      "New upper bound for types is 96.47 %\n",
      "0.9646773513285534\n"
     ]
    }
   ],
   "source": [
    "display(ct_not_right)\n",
    "display(ct_right)\n",
    "display(data_error_types_suggs.shape[0])\n",
    "\n",
    "ratio = ct_right/data_error_types_suggs.shape[0]\n",
    "print('New upper bound for types is', round(ratio,4)*100,'%')\n",
    "print(ratio)"
   ]
  },
  {
   "cell_type": "code",
   "execution_count": 62,
   "id": "5614a1ce-5911-4e18-8158-7f616144f58e",
   "metadata": {},
   "outputs": [
    {
     "data": {
      "text/plain": [
       "'Language Tool recognizes as not correct...'"
      ]
     },
     "metadata": {},
     "output_type": "display_data"
    },
    {
     "data": {
      "text/html": [
       "<div>\n",
       "<style scoped>\n",
       "    .dataframe tbody tr th:only-of-type {\n",
       "        vertical-align: middle;\n",
       "    }\n",
       "\n",
       "    .dataframe tbody tr th {\n",
       "        vertical-align: top;\n",
       "    }\n",
       "\n",
       "    .dataframe thead th {\n",
       "        text-align: right;\n",
       "    }\n",
       "</style>\n",
       "<table border=\"1\" class=\"dataframe\">\n",
       "  <thead>\n",
       "    <tr style=\"text-align: right;\">\n",
       "      <th></th>\n",
       "      <th>original</th>\n",
       "      <th>corrected</th>\n",
       "      <th>filename</th>\n",
       "      <th>freq_ori</th>\n",
       "      <th>freq_cor</th>\n",
       "      <th>freq_tup</th>\n",
       "      <th>suggestions</th>\n",
       "    </tr>\n",
       "  </thead>\n",
       "  <tbody>\n",
       "    <tr>\n",
       "      <th>1</th>\n",
       "      <td>Kukt</td>\n",
       "      <td>Kuckt</td>\n",
       "      <td>01-005-2-III-Eis.csv</td>\n",
       "      <td>73</td>\n",
       "      <td>152</td>\n",
       "      <td>73</td>\n",
       "      <td>[Rückt, Guckt, Zuckt, Zückt, Knickt, Bückt, Gl...</td>\n",
       "    </tr>\n",
       "    <tr>\n",
       "      <th>85</th>\n",
       "      <td>Runtergefalen</td>\n",
       "      <td>Runtergefallen</td>\n",
       "      <td>01-029-2-III-Eis.csv</td>\n",
       "      <td>12</td>\n",
       "      <td>28</td>\n",
       "      <td>12</td>\n",
       "      <td>[Heruntergefallen]</td>\n",
       "    </tr>\n",
       "    <tr>\n",
       "      <th>105</th>\n",
       "      <td>Rich</td>\n",
       "      <td>Riech</td>\n",
       "      <td>01-045-2-III-Eis.csv</td>\n",
       "      <td>2</td>\n",
       "      <td>2</td>\n",
       "      <td>2</td>\n",
       "      <td>[Sieg, Riege, Reich, Rigg, Riecht, Bieg, Rieke...</td>\n",
       "    </tr>\n",
       "    <tr>\n",
       "      <th>179</th>\n",
       "      <td>Runtergefalen</td>\n",
       "      <td>Runtergefallen</td>\n",
       "      <td>01-063-2-III-Eis.csv</td>\n",
       "      <td>12</td>\n",
       "      <td>28</td>\n",
       "      <td>12</td>\n",
       "      <td>[Heruntergefallen]</td>\n",
       "    </tr>\n",
       "    <tr>\n",
       "      <th>309</th>\n",
       "      <td>Runtergefalen</td>\n",
       "      <td>Runtergefallen</td>\n",
       "      <td>01-108-2-III-Eis.csv</td>\n",
       "      <td>12</td>\n",
       "      <td>28</td>\n",
       "      <td>12</td>\n",
       "      <td>[Heruntergefallen]</td>\n",
       "    </tr>\n",
       "    <tr>\n",
       "      <th>363</th>\n",
       "      <td>Eerber</td>\n",
       "      <td>Erdbeer</td>\n",
       "      <td>01-122-2-III-Eis.csv</td>\n",
       "      <td>1</td>\n",
       "      <td>3</td>\n",
       "      <td>1</td>\n",
       "      <td>[Erdbeere, Erdmeer, Erdheer, Erdteer, Erdiger,...</td>\n",
       "    </tr>\n",
       "    <tr>\n",
       "      <th>369</th>\n",
       "      <td>Sis</td>\n",
       "      <td>Sies</td>\n",
       "      <td>01-122-2-III-Eis.csv</td>\n",
       "      <td>2</td>\n",
       "      <td>1</td>\n",
       "      <td>1</td>\n",
       "      <td>[Dies, Sie, Ließ, Sitz, Hieß, Sieg, Wies, Kies...</td>\n",
       "    </tr>\n",
       "    <tr>\n",
       "      <th>403</th>\n",
       "      <td>Vars</td>\n",
       "      <td>Wars</td>\n",
       "      <td>01-127-2-III-Eis.csv</td>\n",
       "      <td>1</td>\n",
       "      <td>2</td>\n",
       "      <td>1</td>\n",
       "      <td>[März, Wärs, Harz, War, Mars, Was, Lars, Walz,...</td>\n",
       "    </tr>\n",
       "    <tr>\n",
       "      <th>405</th>\n",
       "      <td>Schupfs</td>\n",
       "      <td>Schups</td>\n",
       "      <td>01-128-2-III-Eis.csv</td>\n",
       "      <td>1</td>\n",
       "      <td>1</td>\n",
       "      <td>1</td>\n",
       "      <td>[Schubs, Schutz, Schulz, Schuss, Schubse, Schu...</td>\n",
       "    </tr>\n",
       "    <tr>\n",
       "      <th>411</th>\n",
       "      <td>Runterfale</td>\n",
       "      <td>Runterfallen</td>\n",
       "      <td>01-128-2-III-Eis.csv</td>\n",
       "      <td>1</td>\n",
       "      <td>2</td>\n",
       "      <td>1</td>\n",
       "      <td>[Herunterfallen]</td>\n",
       "    </tr>\n",
       "    <tr>\n",
       "      <th>479</th>\n",
       "      <td>Rumtergefalen</td>\n",
       "      <td>Runtergefallen</td>\n",
       "      <td>01-139-2-III-Eis.csv</td>\n",
       "      <td>1</td>\n",
       "      <td>28</td>\n",
       "      <td>1</td>\n",
       "      <td>[Heruntergefallen]</td>\n",
       "    </tr>\n",
       "    <tr>\n",
       "      <th>480</th>\n",
       "      <td>Haz</td>\n",
       "      <td>Hats</td>\n",
       "      <td>01-139-2-III-Eis.csv</td>\n",
       "      <td>1</td>\n",
       "      <td>4</td>\n",
       "      <td>1</td>\n",
       "      <td>[Hat es, Hatz, Hat, Hans, Satz, Haus, Hast, Ka...</td>\n",
       "    </tr>\n",
       "    <tr>\n",
       "      <th>671</th>\n",
       "      <td>Rundtgefalen</td>\n",
       "      <td>Runtergefallen</td>\n",
       "      <td>01-194-2-III-Eis.csv</td>\n",
       "      <td>1</td>\n",
       "      <td>28</td>\n",
       "      <td>1</td>\n",
       "      <td>[Heruntergefallen]</td>\n",
       "    </tr>\n",
       "    <tr>\n",
       "      <th>810</th>\n",
       "      <td>Rundergefalen</td>\n",
       "      <td>Runtergefallen</td>\n",
       "      <td>01-232-2-III-Eis.csv</td>\n",
       "      <td>3</td>\n",
       "      <td>28</td>\n",
       "      <td>3</td>\n",
       "      <td>[Heruntergefallen]</td>\n",
       "    </tr>\n",
       "    <tr>\n",
       "      <th>821</th>\n",
       "      <td>Kukt</td>\n",
       "      <td>Kuckt</td>\n",
       "      <td>01-234-2-III-Eis.csv</td>\n",
       "      <td>73</td>\n",
       "      <td>152</td>\n",
       "      <td>73</td>\n",
       "      <td>[Rückt, Guckt, Zuckt, Zückt, Knickt, Bückt, Gl...</td>\n",
       "    </tr>\n",
       "    <tr>\n",
       "      <th>830</th>\n",
       "      <td>Kukt</td>\n",
       "      <td>Kuckt</td>\n",
       "      <td>01-234-2-III-Eis.csv</td>\n",
       "      <td>73</td>\n",
       "      <td>152</td>\n",
       "      <td>73</td>\n",
       "      <td>[Rückt, Guckt, Zuckt, Zückt, Knickt, Bückt, Gl...</td>\n",
       "    </tr>\n",
       "    <tr>\n",
       "      <th>856</th>\n",
       "      <td>Keb</td>\n",
       "      <td>Geb</td>\n",
       "      <td>01-246-2-III-Eis.csv</td>\n",
       "      <td>1</td>\n",
       "      <td>1</td>\n",
       "      <td>1</td>\n",
       "      <td>[Gäu, Gäb, Web, Gab, Gelb, Gel, Gebe, Gen, Geo...</td>\n",
       "    </tr>\n",
       "    <tr>\n",
       "      <th>884</th>\n",
       "      <td>Schockokugel</td>\n",
       "      <td>Schokokugel</td>\n",
       "      <td>01-265-2-III-Eis.csv</td>\n",
       "      <td>1</td>\n",
       "      <td>1</td>\n",
       "      <td>1</td>\n",
       "      <td>[Schoko kugel, Schoko Kugel, Schokokuchen, Gol...</td>\n",
       "    </tr>\n",
       "    <tr>\n",
       "      <th>904</th>\n",
       "      <td>Gelink</td>\n",
       "      <td>Geling</td>\n",
       "      <td>01-274-2-III-Eis.csv</td>\n",
       "      <td>1</td>\n",
       "      <td>1</td>\n",
       "      <td>1</td>\n",
       "      <td>[Gelenk, Gelang, Reling, Gelingt, Gering, Geli...</td>\n",
       "    </tr>\n",
       "    <tr>\n",
       "      <th>926</th>\n",
       "      <td>Runtagefalen</td>\n",
       "      <td>Runtergefallen</td>\n",
       "      <td>01-275-2-III-Eis.csv</td>\n",
       "      <td>1</td>\n",
       "      <td>28</td>\n",
       "      <td>1</td>\n",
       "      <td>[Heruntergefallen]</td>\n",
       "    </tr>\n",
       "  </tbody>\n",
       "</table>\n",
       "</div>"
      ],
      "text/plain": [
       "          original       corrected              filename  freq_ori  freq_cor  \\\n",
       "1             Kukt           Kuckt  01-005-2-III-Eis.csv        73       152   \n",
       "85   Runtergefalen  Runtergefallen  01-029-2-III-Eis.csv        12        28   \n",
       "105           Rich           Riech  01-045-2-III-Eis.csv         2         2   \n",
       "179  Runtergefalen  Runtergefallen  01-063-2-III-Eis.csv        12        28   \n",
       "309  Runtergefalen  Runtergefallen  01-108-2-III-Eis.csv        12        28   \n",
       "363         Eerber         Erdbeer  01-122-2-III-Eis.csv         1         3   \n",
       "369            Sis            Sies  01-122-2-III-Eis.csv         2         1   \n",
       "403           Vars            Wars  01-127-2-III-Eis.csv         1         2   \n",
       "405        Schupfs          Schups  01-128-2-III-Eis.csv         1         1   \n",
       "411     Runterfale    Runterfallen  01-128-2-III-Eis.csv         1         2   \n",
       "479  Rumtergefalen  Runtergefallen  01-139-2-III-Eis.csv         1        28   \n",
       "480            Haz            Hats  01-139-2-III-Eis.csv         1         4   \n",
       "671   Rundtgefalen  Runtergefallen  01-194-2-III-Eis.csv         1        28   \n",
       "810  Rundergefalen  Runtergefallen  01-232-2-III-Eis.csv         3        28   \n",
       "821           Kukt           Kuckt  01-234-2-III-Eis.csv        73       152   \n",
       "830           Kukt           Kuckt  01-234-2-III-Eis.csv        73       152   \n",
       "856            Keb             Geb  01-246-2-III-Eis.csv         1         1   \n",
       "884   Schockokugel     Schokokugel  01-265-2-III-Eis.csv         1         1   \n",
       "904         Gelink          Geling  01-274-2-III-Eis.csv         1         1   \n",
       "926   Runtagefalen  Runtergefallen  01-275-2-III-Eis.csv         1        28   \n",
       "\n",
       "     freq_tup                                        suggestions  \n",
       "1          73  [Rückt, Guckt, Zuckt, Zückt, Knickt, Bückt, Gl...  \n",
       "85         12                                 [Heruntergefallen]  \n",
       "105         2  [Sieg, Riege, Reich, Rigg, Riecht, Bieg, Rieke...  \n",
       "179        12                                 [Heruntergefallen]  \n",
       "309        12                                 [Heruntergefallen]  \n",
       "363         1  [Erdbeere, Erdmeer, Erdheer, Erdteer, Erdiger,...  \n",
       "369         1  [Dies, Sie, Ließ, Sitz, Hieß, Sieg, Wies, Kies...  \n",
       "403         1  [März, Wärs, Harz, War, Mars, Was, Lars, Walz,...  \n",
       "405         1  [Schubs, Schutz, Schulz, Schuss, Schubse, Schu...  \n",
       "411         1                                   [Herunterfallen]  \n",
       "479         1                                 [Heruntergefallen]  \n",
       "480         1  [Hat es, Hatz, Hat, Hans, Satz, Haus, Hast, Ka...  \n",
       "671         1                                 [Heruntergefallen]  \n",
       "810         3                                 [Heruntergefallen]  \n",
       "821        73  [Rückt, Guckt, Zuckt, Zückt, Knickt, Bückt, Gl...  \n",
       "830        73  [Rückt, Guckt, Zuckt, Zückt, Knickt, Bückt, Gl...  \n",
       "856         1  [Gäu, Gäb, Web, Gab, Gelb, Gel, Gebe, Gen, Geo...  \n",
       "884         1  [Schoko kugel, Schoko Kugel, Schokokuchen, Gol...  \n",
       "904         1  [Gelenk, Gelang, Reling, Gelingt, Gering, Geli...  \n",
       "926         1                                 [Heruntergefallen]  "
      ]
     },
     "metadata": {},
     "output_type": "display_data"
    }
   ],
   "source": [
    "# Output for Token case sensitive overwritten with output below\n",
    "# Token (case insensitive)\n",
    "ct_not_right_2 = data_error_token_suggs[data_error_token_suggs.suggestions.apply(len).gt(0)].shape[0] # check for length greater than 0, i. e. list not empty\n",
    "ct_right_2 = data_error_token_suggs[~data_error_token_suggs.suggestions.apply(len).gt(0)].shape[0] # not right is either false or not recognized\n",
    "display('Language Tool recognizes as not correct...', data_error_token_suggs[data_error_token_suggs.suggestions.apply(len).gt(0)].head(20))"
   ]
  },
  {
   "cell_type": "code",
   "execution_count": 64,
   "id": "2f632641-35b6-4b95-a68e-92fb840436b5",
   "metadata": {},
   "outputs": [
    {
     "data": {
      "text/plain": [
       "606"
      ]
     },
     "metadata": {},
     "output_type": "display_data"
    },
    {
     "data": {
      "text/plain": [
       "23995"
      ]
     },
     "metadata": {},
     "output_type": "display_data"
    },
    {
     "data": {
      "text/plain": [
       "24601"
      ]
     },
     "metadata": {},
     "output_type": "display_data"
    },
    {
     "name": "stdout",
     "output_type": "stream",
     "text": [
      "New upper bound for types is 97.54 %\n",
      "0.975366855005894\n"
     ]
    }
   ],
   "source": [
    "# Token CASE INSENSITIVE\n",
    "display(ct_not_right_2)\n",
    "display(ct_right_2)\n",
    "display(data_error_token_suggs.shape[0])\n",
    "\n",
    "ratio_2 = ct_right_2/data_error_token_suggs.shape[0]\n",
    "print('New upper bound for types is', round(ratio_2,4)*100,'%')\n",
    "print(ratio_2)"
   ]
  },
  {
   "cell_type": "code",
   "execution_count": 115,
   "id": "5323ed44-c290-40f2-98a3-51e384a6d865",
   "metadata": {},
   "outputs": [
    {
     "data": {
      "text/plain": [
       "620"
      ]
     },
     "metadata": {},
     "output_type": "display_data"
    },
    {
     "data": {
      "text/plain": [
       "23981"
      ]
     },
     "metadata": {},
     "output_type": "display_data"
    },
    {
     "data": {
      "text/plain": [
       "24601"
      ]
     },
     "metadata": {},
     "output_type": "display_data"
    },
    {
     "name": "stdout",
     "output_type": "stream",
     "text": [
      "New upper bound for types is 97.48 %\n",
      "0.9747977724482745\n"
     ]
    }
   ],
   "source": [
    "# Token, case sensitive\n",
    "display(ct_not_right_2)\n",
    "display(ct_right_2)\n",
    "display(data_error_token_suggs.shape[0])\n",
    "\n",
    "ratio_2 = ct_right_2/data_error_token_suggs.shape[0]\n",
    "print('New upper bound for types is', round(ratio_2,4)*100,'%')\n",
    "print(ratio_2)"
   ]
  },
  {
   "cell_type": "code",
   "execution_count": 39,
   "id": "5037bfbe-2fe3-4544-ab78-46d6c0384a24",
   "metadata": {},
   "outputs": [
    {
     "data": {
      "text/plain": [
       "'Language Tool recognizes as not correct...'"
      ]
     },
     "metadata": {},
     "output_type": "display_data"
    },
    {
     "data": {
      "text/html": [
       "<div>\n",
       "<style scoped>\n",
       "    .dataframe tbody tr th:only-of-type {\n",
       "        vertical-align: middle;\n",
       "    }\n",
       "\n",
       "    .dataframe tbody tr th {\n",
       "        vertical-align: top;\n",
       "    }\n",
       "\n",
       "    .dataframe thead th {\n",
       "        text-align: right;\n",
       "    }\n",
       "</style>\n",
       "<table border=\"1\" class=\"dataframe\">\n",
       "  <thead>\n",
       "    <tr style=\"text-align: right;\">\n",
       "      <th></th>\n",
       "      <th>original</th>\n",
       "      <th>corrected</th>\n",
       "      <th>filename</th>\n",
       "      <th>freq_ori</th>\n",
       "      <th>freq_cor</th>\n",
       "      <th>freq_tup</th>\n",
       "      <th>suggestions</th>\n",
       "    </tr>\n",
       "  </thead>\n",
       "  <tbody>\n",
       "    <tr>\n",
       "      <th>233</th>\n",
       "      <td>Eerber</td>\n",
       "      <td>Erdbeer</td>\n",
       "      <td>01-122-2-III-Eis.csv</td>\n",
       "      <td>1</td>\n",
       "      <td>3</td>\n",
       "      <td>1</td>\n",
       "      <td>[Erdbeere, Erdmeer, Erdheer, Erdteer, Erdiger,...</td>\n",
       "    </tr>\n",
       "    <tr>\n",
       "      <th>518</th>\n",
       "      <td>Schockokugel</td>\n",
       "      <td>Schokokugel</td>\n",
       "      <td>01-265-2-III-Eis.csv</td>\n",
       "      <td>1</td>\n",
       "      <td>1</td>\n",
       "      <td>1</td>\n",
       "      <td>[Schoko kugel, Schoko Kugel, Schokokuchen, Gol...</td>\n",
       "    </tr>\n",
       "    <tr>\n",
       "      <th>542</th>\n",
       "      <td>ertber</td>\n",
       "      <td>Erdbeer</td>\n",
       "      <td>01-275-2-III-Eis.csv</td>\n",
       "      <td>1</td>\n",
       "      <td>3</td>\n",
       "      <td>1</td>\n",
       "      <td>[Erdbeere, Erdmeer, Erdheer, Erdteer, Erdiger,...</td>\n",
       "    </tr>\n",
       "    <tr>\n",
       "      <th>547</th>\n",
       "      <td>Etber</td>\n",
       "      <td>Erdbeer</td>\n",
       "      <td>01-277-2-III-Eis.csv</td>\n",
       "      <td>1</td>\n",
       "      <td>3</td>\n",
       "      <td>1</td>\n",
       "      <td>[Erdbeere, Erdmeer, Erdheer, Erdteer, Erdiger,...</td>\n",
       "    </tr>\n",
       "    <tr>\n",
       "      <th>548</th>\n",
       "      <td>blauber</td>\n",
       "      <td>Blaubeer</td>\n",
       "      <td>01-277-2-III-Eis.csv</td>\n",
       "      <td>1</td>\n",
       "      <td>1</td>\n",
       "      <td>1</td>\n",
       "      <td>[Blaubär, Blaumeer, Blaubeere, Blauer, Blauhee...</td>\n",
       "    </tr>\n",
       "    <tr>\n",
       "      <th>856</th>\n",
       "      <td>HodogStand</td>\n",
       "      <td>Hotdogstand</td>\n",
       "      <td>01-493-2-III-Eis.csv</td>\n",
       "      <td>2</td>\n",
       "      <td>2</td>\n",
       "      <td>2</td>\n",
       "      <td>[Hotdog stand]</td>\n",
       "    </tr>\n",
       "    <tr>\n",
       "      <th>1359</th>\n",
       "      <td>Te</td>\n",
       "      <td>The</td>\n",
       "      <td>02-218-2-IV-Weg.csv</td>\n",
       "      <td>1</td>\n",
       "      <td>7</td>\n",
       "      <td>1</td>\n",
       "      <td>[TV, Die, Ehe, De, TC, Tee, Tue, Theo, Che, TB...</td>\n",
       "    </tr>\n",
       "    <tr>\n",
       "      <th>1522</th>\n",
       "      <td>vermiszetel</td>\n",
       "      <td>Vermisstzettel</td>\n",
       "      <td>02-289-2-IV-Weg.csv</td>\n",
       "      <td>1</td>\n",
       "      <td>1</td>\n",
       "      <td>1</td>\n",
       "      <td>[Vermisst zettel, Vermisst Zettel]</td>\n",
       "    </tr>\n",
       "    <tr>\n",
       "      <th>1650</th>\n",
       "      <td>freßchen</td>\n",
       "      <td>Fresschen</td>\n",
       "      <td>02-342-2-IV-Weg.csv</td>\n",
       "      <td>1</td>\n",
       "      <td>1</td>\n",
       "      <td>1</td>\n",
       "      <td>[Prägen, Versuchen, Kreischen, Fresken, Fresse...</td>\n",
       "    </tr>\n",
       "    <tr>\n",
       "      <th>1686</th>\n",
       "      <td>Dindon</td>\n",
       "      <td>Dingdong</td>\n",
       "      <td>02-371-2-IV-Weg.csv</td>\n",
       "      <td>1</td>\n",
       "      <td>1</td>\n",
       "      <td>1</td>\n",
       "      <td>[Pingpong, Sington]</td>\n",
       "    </tr>\n",
       "    <tr>\n",
       "      <th>1838</th>\n",
       "      <td>träschn</td>\n",
       "      <td>Tränchen</td>\n",
       "      <td>02-486-2-IV-Weg.csv</td>\n",
       "      <td>1</td>\n",
       "      <td>3</td>\n",
       "      <td>1</td>\n",
       "      <td>[Drängen, Tranchen, Drangen, Drängten, Krengen...</td>\n",
       "    </tr>\n",
       "    <tr>\n",
       "      <th>1841</th>\n",
       "      <td>träschen</td>\n",
       "      <td>Tränchen</td>\n",
       "      <td>02-486-2-IV-Weg.csv</td>\n",
       "      <td>1</td>\n",
       "      <td>3</td>\n",
       "      <td>1</td>\n",
       "      <td>[Drängen, Tranchen, Drangen, Drängten, Krengen...</td>\n",
       "    </tr>\n",
       "    <tr>\n",
       "      <th>1845</th>\n",
       "      <td>traschen</td>\n",
       "      <td>Tränchen</td>\n",
       "      <td>02-486-2-IV-Weg.csv</td>\n",
       "      <td>1</td>\n",
       "      <td>3</td>\n",
       "      <td>1</td>\n",
       "      <td>[Drängen, Tranchen, Drangen, Drängten, Krengen...</td>\n",
       "    </tr>\n",
       "    <tr>\n",
       "      <th>2347</th>\n",
       "      <td>Komzeischen</td>\n",
       "      <td>Kommzeichen</td>\n",
       "      <td>03-281-3-I-Frosch.csv</td>\n",
       "      <td>1</td>\n",
       "      <td>2</td>\n",
       "      <td>1</td>\n",
       "      <td>[Komm Zeichen, Formzeichen, Kopfzeichen]</td>\n",
       "    </tr>\n",
       "    <tr>\n",
       "      <th>2475</th>\n",
       "      <td>Frochi</td>\n",
       "      <td>Froschi</td>\n",
       "      <td>03-338-3-I-Frosch.csv</td>\n",
       "      <td>1</td>\n",
       "      <td>1</td>\n",
       "      <td>1</td>\n",
       "      <td>[Frosch, Frösche, Fragt, Frisch, Froschs, Fris...</td>\n",
       "    </tr>\n",
       "    <tr>\n",
       "      <th>2488</th>\n",
       "      <td>Teh</td>\n",
       "      <td>The</td>\n",
       "      <td>03-342-3-I-Frosch.csv</td>\n",
       "      <td>5</td>\n",
       "      <td>7</td>\n",
       "      <td>5</td>\n",
       "      <td>[TV, Die, Ehe, De, TC, Tee, Tue, Theo, Che, TB...</td>\n",
       "    </tr>\n",
       "    <tr>\n",
       "      <th>2644</th>\n",
       "      <td>komzeichen</td>\n",
       "      <td>Kommzeichen</td>\n",
       "      <td>03-477-3-I-Frosch.csv</td>\n",
       "      <td>1</td>\n",
       "      <td>2</td>\n",
       "      <td>1</td>\n",
       "      <td>[Komm Zeichen, Formzeichen, Kopfzeichen]</td>\n",
       "    </tr>\n",
       "    <tr>\n",
       "      <th>2735</th>\n",
       "      <td>Gärken</td>\n",
       "      <td>Görken</td>\n",
       "      <td>04-028-3-II-Jenga.csv</td>\n",
       "      <td>1</td>\n",
       "      <td>1</td>\n",
       "      <td>1</td>\n",
       "      <td>[Glocken, Kargen, Gurken, Knacken, Glucken, Kl...</td>\n",
       "    </tr>\n",
       "    <tr>\n",
       "      <th>2914</th>\n",
       "      <td>Domminick</td>\n",
       "      <td>Dominick</td>\n",
       "      <td>04-122-3-II-Jenga.csv</td>\n",
       "      <td>1</td>\n",
       "      <td>1</td>\n",
       "      <td>1</td>\n",
       "      <td>[Dominic, Domknick, Dominik, Domblick, Dominic...</td>\n",
       "    </tr>\n",
       "    <tr>\n",
       "      <th>2924</th>\n",
       "      <td>JengaTorm</td>\n",
       "      <td>Jengaturm</td>\n",
       "      <td>04-127-3-II-Jenga.csv</td>\n",
       "      <td>1</td>\n",
       "      <td>2</td>\n",
       "      <td>1</td>\n",
       "      <td>[Jungsturm, Längsturm, Hängeturm, Denkturm, Ju...</td>\n",
       "    </tr>\n",
       "  </tbody>\n",
       "</table>\n",
       "</div>"
      ],
      "text/plain": [
       "          original       corrected               filename  freq_ori  freq_cor  \\\n",
       "233         Eerber         Erdbeer   01-122-2-III-Eis.csv         1         3   \n",
       "518   Schockokugel     Schokokugel   01-265-2-III-Eis.csv         1         1   \n",
       "542         ertber         Erdbeer   01-275-2-III-Eis.csv         1         3   \n",
       "547          Etber         Erdbeer   01-277-2-III-Eis.csv         1         3   \n",
       "548        blauber        Blaubeer   01-277-2-III-Eis.csv         1         1   \n",
       "856     HodogStand     Hotdogstand   01-493-2-III-Eis.csv         2         2   \n",
       "1359            Te             The    02-218-2-IV-Weg.csv         1         7   \n",
       "1522   vermiszetel  Vermisstzettel    02-289-2-IV-Weg.csv         1         1   \n",
       "1650      freßchen       Fresschen    02-342-2-IV-Weg.csv         1         1   \n",
       "1686        Dindon        Dingdong    02-371-2-IV-Weg.csv         1         1   \n",
       "1838       träschn        Tränchen    02-486-2-IV-Weg.csv         1         3   \n",
       "1841      träschen        Tränchen    02-486-2-IV-Weg.csv         1         3   \n",
       "1845      traschen        Tränchen    02-486-2-IV-Weg.csv         1         3   \n",
       "2347   Komzeischen     Kommzeichen  03-281-3-I-Frosch.csv         1         2   \n",
       "2475        Frochi         Froschi  03-338-3-I-Frosch.csv         1         1   \n",
       "2488           Teh             The  03-342-3-I-Frosch.csv         5         7   \n",
       "2644    komzeichen     Kommzeichen  03-477-3-I-Frosch.csv         1         2   \n",
       "2735        Gärken          Görken  04-028-3-II-Jenga.csv         1         1   \n",
       "2914     Domminick        Dominick  04-122-3-II-Jenga.csv         1         1   \n",
       "2924     JengaTorm       Jengaturm  04-127-3-II-Jenga.csv         1         2   \n",
       "\n",
       "      freq_tup                                        suggestions  \n",
       "233          1  [Erdbeere, Erdmeer, Erdheer, Erdteer, Erdiger,...  \n",
       "518          1  [Schoko kugel, Schoko Kugel, Schokokuchen, Gol...  \n",
       "542          1  [Erdbeere, Erdmeer, Erdheer, Erdteer, Erdiger,...  \n",
       "547          1  [Erdbeere, Erdmeer, Erdheer, Erdteer, Erdiger,...  \n",
       "548          1  [Blaubär, Blaumeer, Blaubeere, Blauer, Blauhee...  \n",
       "856          2                                     [Hotdog stand]  \n",
       "1359         1  [TV, Die, Ehe, De, TC, Tee, Tue, Theo, Che, TB...  \n",
       "1522         1                 [Vermisst zettel, Vermisst Zettel]  \n",
       "1650         1  [Prägen, Versuchen, Kreischen, Fresken, Fresse...  \n",
       "1686         1                                [Pingpong, Sington]  \n",
       "1838         1  [Drängen, Tranchen, Drangen, Drängten, Krengen...  \n",
       "1841         1  [Drängen, Tranchen, Drangen, Drängten, Krengen...  \n",
       "1845         1  [Drängen, Tranchen, Drangen, Drängten, Krengen...  \n",
       "2347         1           [Komm Zeichen, Formzeichen, Kopfzeichen]  \n",
       "2475         1  [Frosch, Frösche, Fragt, Frisch, Froschs, Fris...  \n",
       "2488         5  [TV, Die, Ehe, De, TC, Tee, Tue, Theo, Che, TB...  \n",
       "2644         1           [Komm Zeichen, Formzeichen, Kopfzeichen]  \n",
       "2735         1  [Glocken, Kargen, Gurken, Knacken, Glucken, Kl...  \n",
       "2914         1  [Dominic, Domknick, Dominik, Domblick, Dominic...  \n",
       "2924         1  [Jungsturm, Längsturm, Hängeturm, Denkturm, Ju...  "
      ]
     },
     "metadata": {},
     "output_type": "display_data"
    }
   ],
   "source": [
    "# Types CASE INSENSITIVE\n",
    "# Types\n",
    "ct_not_right = data_error_types_suggs[data_error_types_suggs.suggestions.apply(len).gt(0)].shape[0] # check for length greater than 0, i. e. list not empty\n",
    "ct_right = data_error_types_suggs[~data_error_types_suggs.suggestions.apply(len).gt(0)].shape[0] # not right is either false or not recognized\n",
    "display('Language Tool recognizes as not correct...', data_error_types_suggs[data_error_types_suggs.suggestions.apply(len).gt(0)].head(20))"
   ]
  },
  {
   "cell_type": "code",
   "execution_count": 65,
   "id": "8ab7debd-e261-431d-99dc-0f074984359d",
   "metadata": {},
   "outputs": [
    {
     "data": {
      "text/plain": [
       "118"
      ]
     },
     "metadata": {},
     "output_type": "display_data"
    },
    {
     "data": {
      "text/plain": [
       "9366"
      ]
     },
     "metadata": {},
     "output_type": "display_data"
    },
    {
     "data": {
      "text/plain": [
       "9484"
      ]
     },
     "metadata": {},
     "output_type": "display_data"
    },
    {
     "name": "stdout",
     "output_type": "stream",
     "text": [
      "New upper bound for types (case insensitive) is 98.76 %\n",
      "0.9875579924082666\n"
     ]
    }
   ],
   "source": [
    "display(ct_not_right)\n",
    "display(ct_right)\n",
    "display(data_error_types_suggs.shape[0])\n",
    "\n",
    "ratio = ct_right/data_error_types_suggs.shape[0]\n",
    "print('New upper bound for types (case insensitive) is', round(ratio,4)*100,'%')\n",
    "print(ratio)"
   ]
  },
  {
   "cell_type": "code",
   "execution_count": null,
   "id": "95c304f0-cf32-4d4f-81a0-14ab752ec0c2",
   "metadata": {},
   "outputs": [],
   "source": []
  }
 ],
 "metadata": {
  "kernelspec": {
   "display_name": "bodu-spell_Env",
   "language": "python",
   "name": "bodu-spell_env"
  },
  "language_info": {
   "codemirror_mode": {
    "name": "ipython",
    "version": 3
   },
   "file_extension": ".py",
   "mimetype": "text/x-python",
   "name": "python",
   "nbconvert_exporter": "python",
   "pygments_lexer": "ipython3",
   "version": "3.9.6"
  }
 },
 "nbformat": 4,
 "nbformat_minor": 5
}
