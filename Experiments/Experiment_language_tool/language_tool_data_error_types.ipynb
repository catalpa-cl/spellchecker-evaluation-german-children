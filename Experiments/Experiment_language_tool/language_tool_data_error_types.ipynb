{
 "cells": [
  {
   "cell_type": "markdown",
   "id": "8f21fe2f-e065-4066-a558-43ba355cfa3c",
   "metadata": {},
   "source": [
    "In this notebook, the list of misspellings (i. e. data_error_types) are analysed by language tool, each word seperately. Resulting in a comparable analysis as with other spell-checkers (hunspell, boyd)."
   ]
  },
  {
   "cell_type": "code",
   "execution_count": 1,
   "id": "e7056046-3105-4919-814a-c9c66dcaa228",
   "metadata": {},
   "outputs": [],
   "source": [
    "import language_tool_python\n",
    "import pandas as pd"
   ]
  },
  {
   "cell_type": "code",
   "execution_count": 2,
   "id": "966d3615-48a7-4f27-905d-5b7e360873e0",
   "metadata": {},
   "outputs": [],
   "source": [
    "# Initialize language tool object\n",
    "tool = language_tool_python.LanguageTool('de-DE')"
   ]
  },
  {
   "cell_type": "code",
   "execution_count": 4,
   "id": "325a053d-0c24-406f-9a60-d761e01c40d0",
   "metadata": {},
   "outputs": [],
   "source": [
    "# Open and read text file\n",
    "# readlines method returning list of strings\n",
    "\n",
    "with open('Input/data_error_types_origs.txt', 'r') as f:\n",
    "    lines_n = f.readlines()\n",
    "    \n",
    "# lines_n[1] --> 'kukt\\n'\n",
    "# lines_n[9483] --> 'momen\\n'; 'UPPERCASE_SENTENCE_START'"
   ]
  },
  {
   "cell_type": "code",
   "execution_count": 5,
   "id": "aadec746-ba88-4aea-aab1-e05a0a84622a",
   "metadata": {},
   "outputs": [],
   "source": [
    "# Cut off linebreak (\\n) at end of each String\n",
    "# Otherwise each String is interpreted as sentence start (error: 'UPPERCASE_SENTENCE_START'), possibly bc of linebreak\n",
    "lines = [e.split('\\n')[0].strip() for e in lines_n]"
   ]
  },
  {
   "cell_type": "code",
   "execution_count": 13,
   "id": "9a80d173-3480-4184-9e8a-a7b06522c14a",
   "metadata": {},
   "outputs": [],
   "source": [
    "#tool.check(lines[9483])"
   ]
  },
  {
   "cell_type": "code",
   "execution_count": 7,
   "id": "9def1bcb-0182-4f15-81ac-ab5b3ff78887",
   "metadata": {},
   "outputs": [],
   "source": [
    "# Take one line each (i. e. one original word) and generate list of matches\n",
    "# Append each match(-list) to list of suggestions\n",
    "\n",
    "suggestions = []\n",
    "for line in lines:\n",
    "    #print(line)\n",
    "    suggestions.append(tool.check(line))"
   ]
  },
  {
   "cell_type": "code",
   "execution_count": 8,
   "id": "f6bad1ab-b3db-44c7-8477-12d6186c2e88",
   "metadata": {
    "tags": []
   },
   "outputs": [
    {
     "name": "stdout",
     "output_type": "stream",
     "text": [
      "9484\n"
     ]
    },
    {
     "data": {
      "text/plain": [
       "8771"
      ]
     },
     "execution_count": 8,
     "metadata": {},
     "output_type": "execute_result"
    }
   ],
   "source": [
    "print(len(suggestions)) # 9484 / 9484\n",
    "\n",
    "# BUT SOME ZEROS, i. e. no suggestion\n",
    "# Filter out 0 suggestions\n",
    "suggestions_1 = [s for s in suggestions if len(s)>0]\n",
    "len(suggestions_1) # 8771 / 9484"
   ]
  },
  {
   "cell_type": "code",
   "execution_count": 16,
   "id": "5445f615-32f6-4e9a-8a6a-b946e37b8939",
   "metadata": {},
   "outputs": [],
   "source": [
    "import pickle\n",
    "with open('matches_errorlist.pkl', 'wb') as f:\n",
    "    # Pickle list\n",
    "    pickle.dump(suggestions, f, protocol=3)"
   ]
  },
  {
   "cell_type": "code",
   "execution_count": 86,
   "id": "b087e580-8c09-4460-a968-bfe7a711ad14",
   "metadata": {},
   "outputs": [],
   "source": [
    "#for s in suggestions_1:\n",
    "#    print(s[0].ruleId)\n",
    "#suggestions_1.value_counts()\n",
    "#sugestions_1[i][0].replacements"
   ]
  },
  {
   "cell_type": "code",
   "execution_count": 9,
   "id": "efe4c9bc-b5bf-45c8-a1b0-8399bde7d6b8",
   "metadata": {},
   "outputs": [
    {
     "data": {
      "text/plain": [
       "8725"
      ]
     },
     "execution_count": 9,
     "metadata": {},
     "output_type": "execute_result"
    }
   ],
   "source": [
    "# Filter for spelling errors\n",
    "suggestions_1_spell = [s for s in suggestions_1 if s[0].ruleId == 'GERMAN_SPELLER_RULE']\n",
    "len(suggestions_1_spell) # 8725"
   ]
  },
  {
   "cell_type": "code",
   "execution_count": 10,
   "id": "6a898627-eb80-4c1c-884b-5d3a39a1a839",
   "metadata": {},
   "outputs": [
    {
     "data": {
      "text/plain": [
       "46"
      ]
     },
     "execution_count": 10,
     "metadata": {},
     "output_type": "execute_result"
    }
   ],
   "source": [
    "# Filter for all other errors\n",
    "suggestions_1_other = [s for s in suggestions_1 if s[0].ruleId != 'GERMAN_SPELLER_RULE']\n",
    "len(suggestions_1_other) # 46"
   ]
  },
  {
   "cell_type": "code",
   "execution_count": 11,
   "id": "a9744e95-9b54-4f50-af4b-c8833181002c",
   "metadata": {},
   "outputs": [
    {
     "name": "stdout",
     "output_type": "stream",
     "text": [
      "lasen LASEN_LASSEN ['Lassen']\n",
      "halo HALO_HALLO ['Hallo']\n",
      "Weder WEDER_OHNE_NOCH []\n",
      "paster's UPPERCASE_SENTENCE_START ['Paster']\n",
      "Halo HALO_HALLO ['Hallo']\n",
      "weder WEDER_OHNE_NOCH []\n",
      "\"Freund,in\" TYPOGRAFISCHE_ANFUEHRUNGSZEICHEN ['„']\n",
      "halo HALO_HALLO ['Hallo']\n",
      "rase= UPPERCASE_SENTENCE_START ['Rase']\n",
      "bes=chlosen UPPERCASE_SENTENCE_START ['Bes']\n",
      "gluglis=ch UPPERCASE_SENTENCE_START ['Gluglis']\n",
      "get's UPPERCASE_SENTENCE_START ['Get']\n",
      "wenigsten WENIGSTEN_VS_WENIGSTENS ['wenigstens', 'zumindest']\n",
      "\"lost,läst\" TYPOGRAFISCHE_ANFUEHRUNGSZEICHEN ['„']\n",
      "schaf=en UPPERCASE_SENTENCE_START ['Schaf']\n",
      "sonder SONDER ['sondern']\n",
      "weg.gerant UPPERCASE_SENTENCE_START ['Weg']\n",
      "staupsauger=beutel UPPERCASE_SENTENCE_START ['Staupsauger']\n",
      "weiss WEISS ['weiß']\n",
      "dm PRP_DM ['dem']\n",
      "telefphoniert TEST_F_ANSTATT_PH ['teleffoniert']\n",
      "Telephon TEST_F_ANSTATT_PH ['Telefon']\n",
      "liebling'sfutter UPPERCASE_SENTENCE_START ['Liebling']\n",
      "ko KO ['K.\\xa0o.', 'k.\\xa0o.']\n",
      "'nen TYPOGRAFISCHE_ANFUEHRUNGSZEICHEN ['’', '‚', '‘', '′']\n",
      "gesprun.gen UPPERCASE_SENTENCE_START ['Gesprun']\n",
      "HaLo HALO_HALLO ['Hallo']\n",
      "her. UPPERCASE_SENTENCE_START ['Her']\n",
      "gelb.orange UPPERCASE_SENTENCE_START ['Gelb']\n",
      "\"Blau,rot,Gelbfarbenden\" TYPOGRAFISCHE_ANFUEHRUNGSZEICHEN ['„']\n",
      "führ FUEHR_FUER ['für']\n",
      "bereit's UPPERCASE_SENTENCE_START ['Bereit']\n",
      "min. UPPERCASE_SENTENCE_START ['Min']\n",
      "(Wao UNPAIRED_BRACKETS []\n",
      "Freund's PLURAL_APOSTROPH ['Freunds', 'Freund']\n",
      "\"fenster:\"\"Rand\" TYPOGRAFISCHE_ANFUEHRUNGSZEICHEN ['„']\n",
      "führ FUEHR_FUER ['für']\n",
      "Mädchen's PLURAL_APOSTROPH ['Mädchens', 'Mädchen']\n",
      "nicht's NICHTS_OHNE_APOSTROPH ['nichts']\n",
      "cirka. UPPERCASE_SENTENCE_START ['Cirka']\n",
      "gef=unden UPPERCASE_SENTENCE_START ['Gef']\n",
      "\"\"\"Missing\"\"plakate\" TYPOGRAFISCHE_ANFUEHRUNGSZEICHEN ['„']\n",
      "\"\"\"Missing\"\"poster\" TYPOGRAFISCHE_ANFUEHRUNGSZEICHEN ['„']\n",
      "vermißt OLD_SPELLING ['vermisst']\n",
      "Telefphon TEST_F_ANSTATT_PH ['Teleffon']\n",
      "aufgeh.passt UPPERCASE_SENTENCE_START ['Aufgeh']\n"
     ]
    }
   ],
   "source": [
    "# Have a look at other errors\n",
    "for s in suggestions_1_other:\n",
    "    print(s[0].sentence, s[0].ruleId, s[0].replacements)"
   ]
  },
  {
   "cell_type": "code",
   "execution_count": 17,
   "id": "dee886db-a60b-4052-a2ad-0f3c4a6a9f90",
   "metadata": {},
   "outputs": [],
   "source": [
    "# Extract mistakes and corrections\n",
    "my_mistakes = []\n",
    "my_corrections = []\n",
    "rule_id = []\n",
    "\n",
    "for rules in suggestions_1:\n",
    "    my_mistakes.append(rules[0].sentence)\n",
    "    my_corrections.append(rules[0].replacements)\n",
    "    rule_id.append(rules[0].ruleId)"
   ]
  },
  {
   "cell_type": "code",
   "execution_count": 18,
   "id": "c35e7db2-8239-48bb-8287-68024aa0d0dd",
   "metadata": {},
   "outputs": [],
   "source": [
    "# Zip to list\n",
    "df_prep = list(zip(my_mistakes,my_corrections, rule_id))\n",
    "#print(df_prep)\n",
    "#print(my_corrections)"
   ]
  },
  {
   "cell_type": "code",
   "execution_count": 19,
   "id": "ee002e5c-0026-4b1e-9f88-20d5b4b4b525",
   "metadata": {},
   "outputs": [
    {
     "data": {
      "text/html": [
       "<div>\n",
       "<style scoped>\n",
       "    .dataframe tbody tr th:only-of-type {\n",
       "        vertical-align: middle;\n",
       "    }\n",
       "\n",
       "    .dataframe tbody tr th {\n",
       "        vertical-align: top;\n",
       "    }\n",
       "\n",
       "    .dataframe thead th {\n",
       "        text-align: right;\n",
       "    }\n",
       "</style>\n",
       "<table border=\"1\" class=\"dataframe\">\n",
       "  <thead>\n",
       "    <tr style=\"text-align: right;\">\n",
       "      <th></th>\n",
       "      <th>original</th>\n",
       "      <th>suggestions</th>\n",
       "      <th>rule_id</th>\n",
       "    </tr>\n",
       "  </thead>\n",
       "  <tbody>\n",
       "    <tr>\n",
       "      <th>0</th>\n",
       "      <td>belt</td>\n",
       "      <td>[Belt, Welt, bald, hält, Geld, Feld, Held, Zel...</td>\n",
       "      <td>GERMAN_SPELLER_RULE</td>\n",
       "    </tr>\n",
       "    <tr>\n",
       "      <th>1</th>\n",
       "      <td>kukt</td>\n",
       "      <td>[rückt, zückt, bückt, guckt, kickt, kackt, gut...</td>\n",
       "      <td>GERMAN_SPELLER_RULE</td>\n",
       "    </tr>\n",
       "  </tbody>\n",
       "</table>\n",
       "</div>"
      ],
      "text/plain": [
       "  original                                        suggestions  \\\n",
       "0     belt  [Belt, Welt, bald, hält, Geld, Feld, Held, Zel...   \n",
       "1     kukt  [rückt, zückt, bückt, guckt, kickt, kackt, gut...   \n",
       "\n",
       "               rule_id  \n",
       "0  GERMAN_SPELLER_RULE  \n",
       "1  GERMAN_SPELLER_RULE  "
      ]
     },
     "execution_count": 19,
     "metadata": {},
     "output_type": "execute_result"
    }
   ],
   "source": [
    "# Convert to df\n",
    "df = pd.DataFrame(data=df_prep, columns=['original', 'suggestions', 'rule_id'])\n",
    "df.head(2)"
   ]
  },
  {
   "cell_type": "code",
   "execution_count": 20,
   "id": "cd7be35e-b93f-49bc-b745-df9f8f4391e1",
   "metadata": {},
   "outputs": [],
   "source": [
    "# Export\n",
    "#df.to_pickle('./data_error_types_language_tool_RULEID.pkl')"
   ]
  },
  {
   "cell_type": "code",
   "execution_count": 85,
   "id": "b9092341-ef4f-4bfd-965d-037ece21e401",
   "metadata": {},
   "outputs": [
    {
     "data": {
      "text/plain": [
       "8771"
      ]
     },
     "execution_count": 85,
     "metadata": {},
     "output_type": "execute_result"
    }
   ],
   "source": [
    "df.shape[0]\n",
    "# NA-values will be merged back in postprocessing process, resulting in 9484 values"
   ]
  },
  {
   "cell_type": "code",
   "execution_count": null,
   "id": "cbd69e5b-5bfc-4192-89be-b076954ed270",
   "metadata": {},
   "outputs": [],
   "source": []
  }
 ],
 "metadata": {
  "kernelspec": {
   "display_name": "bodu-spell_Env",
   "language": "python",
   "name": "bodu-spell_env"
  },
  "language_info": {
   "codemirror_mode": {
    "name": "ipython",
    "version": 3
   },
   "file_extension": ".py",
   "mimetype": "text/x-python",
   "name": "python",
   "nbconvert_exporter": "python",
   "pygments_lexer": "ipython3",
   "version": "3.9.6"
  }
 },
 "nbformat": 4,
 "nbformat_minor": 5
}
