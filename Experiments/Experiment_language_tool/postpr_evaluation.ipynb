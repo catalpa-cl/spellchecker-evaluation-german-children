{
 "cells": [
  {
   "cell_type": "markdown",
   "id": "f9dae826-4343-44e1-b2f1-fce1bda33bb8",
   "metadata": {},
   "source": [
    "# Postprocessing of language_tool + run through evaluation\n",
    "- for data_error_types\n",
    "    - map to data_error_types\n",
    "    - map to data_error_token\n",
    "- for test run through (data_error_types_100)\n",
    "\n",
    "\n",
    "- Error Types"
   ]
  },
  {
   "cell_type": "code",
   "execution_count": 2,
   "id": "483daddb-5fb8-4968-b279-8e20ed360024",
   "metadata": {},
   "outputs": [],
   "source": [
    "import pandas as pd\n",
    "import sys\n",
    "sys.path.insert(0, '../../Lisa')\n",
    "import litkey_2"
   ]
  },
  {
   "cell_type": "code",
   "execution_count": 3,
   "id": "7a23b06a-1b7c-40c7-a78e-fa8204d2e0d8",
   "metadata": {},
   "outputs": [],
   "source": [
    "# Do not truncate rows of DataFrame\n",
    "pd.set_option('display.max_rows', None)\n",
    "# Do not truncate column width\n",
    "pd.set_option('display.max_colwidth', None)"
   ]
  },
  {
   "cell_type": "markdown",
   "id": "ee8228f6-00d4-4d25-a3f4-a2615f1b7136",
   "metadata": {},
   "source": [
    "## data_error_types_language_tool\n",
    "- map to data_error_types\n",
    "- map to data_error_token"
   ]
  },
  {
   "cell_type": "code",
   "execution_count": 5,
   "id": "c781f7af-9122-4fa3-826b-d5a2000dee44",
   "metadata": {},
   "outputs": [
    {
     "data": {
      "text/html": [
       "<div>\n",
       "<style scoped>\n",
       "    .dataframe tbody tr th:only-of-type {\n",
       "        vertical-align: middle;\n",
       "    }\n",
       "\n",
       "    .dataframe tbody tr th {\n",
       "        vertical-align: top;\n",
       "    }\n",
       "\n",
       "    .dataframe thead th {\n",
       "        text-align: right;\n",
       "    }\n",
       "</style>\n",
       "<table border=\"1\" class=\"dataframe\">\n",
       "  <thead>\n",
       "    <tr style=\"text-align: right;\">\n",
       "      <th></th>\n",
       "      <th>original</th>\n",
       "      <th>suggestions</th>\n",
       "      <th>rule_id</th>\n",
       "    </tr>\n",
       "  </thead>\n",
       "  <tbody>\n",
       "    <tr>\n",
       "      <th>0</th>\n",
       "      <td>belt</td>\n",
       "      <td>[Belt, Welt, bald, hält, Geld, Feld, Held, Zelt, bebt, bellt, perlt, pell, best, meld, peilt, pellt, pult, zelt, bei, seit]</td>\n",
       "      <td>GERMAN_SPELLER_RULE</td>\n",
       "    </tr>\n",
       "    <tr>\n",
       "      <th>1</th>\n",
       "      <td>kukt</td>\n",
       "      <td>[rückt, zückt, bückt, guckt, kickt, kackt, gut, rückte, deckt, fügt, Lücke, lockt, weckt, packt, Mücke, kund, kürt, lügt, hackt, hockt]</td>\n",
       "      <td>GERMAN_SPELLER_RULE</td>\n",
       "    </tr>\n",
       "  </tbody>\n",
       "</table>\n",
       "</div>"
      ],
      "text/plain": [
       "  original  \\\n",
       "0     belt   \n",
       "1     kukt   \n",
       "\n",
       "                                                                                                                               suggestions  \\\n",
       "0              [Belt, Welt, bald, hält, Geld, Feld, Held, Zelt, bebt, bellt, perlt, pell, best, meld, peilt, pellt, pult, zelt, bei, seit]   \n",
       "1  [rückt, zückt, bückt, guckt, kickt, kackt, gut, rückte, deckt, fügt, Lücke, lockt, weckt, packt, Mücke, kund, kürt, lügt, hackt, hockt]   \n",
       "\n",
       "               rule_id  \n",
       "0  GERMAN_SPELLER_RULE  \n",
       "1  GERMAN_SPELLER_RULE  "
      ]
     },
     "execution_count": 5,
     "metadata": {},
     "output_type": "execute_result"
    }
   ],
   "source": [
    "data_error_types = pd.read_pickle('./pickles/data_error_types_language_tool_RULEID.pkl')\n",
    "data_error_types.head(2)"
   ]
  },
  {
   "cell_type": "code",
   "execution_count": 6,
   "id": "4ff88b86-8dc3-4c3d-b5ae-84a28b70acc6",
   "metadata": {},
   "outputs": [
    {
     "name": "stdout",
     "output_type": "stream",
     "text": [
      "9484\n",
      "8771\n"
     ]
    }
   ],
   "source": [
    "# Get data_error_types original\n",
    "df_orig = litkey_2.load(litkey_data_path = \"../../litkey-data/\")\n",
    "\n",
    "print(df_orig.shape[0])\n",
    "print(data_error_types.shape[0])"
   ]
  },
  {
   "cell_type": "code",
   "execution_count": 7,
   "id": "ce118331-e798-4b9a-bf35-313f88b34cdc",
   "metadata": {},
   "outputs": [
    {
     "data": {
      "text/html": [
       "<div>\n",
       "<style scoped>\n",
       "    .dataframe tbody tr th:only-of-type {\n",
       "        vertical-align: middle;\n",
       "    }\n",
       "\n",
       "    .dataframe tbody tr th {\n",
       "        vertical-align: top;\n",
       "    }\n",
       "\n",
       "    .dataframe thead th {\n",
       "        text-align: right;\n",
       "    }\n",
       "</style>\n",
       "<table border=\"1\" class=\"dataframe\">\n",
       "  <thead>\n",
       "    <tr style=\"text-align: right;\">\n",
       "      <th></th>\n",
       "      <th>original</th>\n",
       "      <th>suggestions</th>\n",
       "      <th>rule_id</th>\n",
       "    </tr>\n",
       "  </thead>\n",
       "  <tbody>\n",
       "    <tr>\n",
       "      <th>422</th>\n",
       "      <td>Aaus</td>\n",
       "      <td>[Aus, Haus, Baus, Maus, Raus, Gauß, Ahaus, Gaus, Taus, Kauz, Gäus, Aals, Laus, Aas, Saus, Anus, Asus, Als, Auf, Das]</td>\n",
       "      <td>GERMAN_SPELLER_RULE</td>\n",
       "    </tr>\n",
       "    <tr>\n",
       "      <th>3607</th>\n",
       "      <td>Aaus</td>\n",
       "      <td>[Aus, Haus, Baus, Maus, Raus, Gauß, Ahaus, Gaus, Taus, Kauz, Gäus, Aals, Laus, Aas, Saus, Anus, Asus, Als, Auf, Das]</td>\n",
       "      <td>GERMAN_SPELLER_RULE</td>\n",
       "    </tr>\n",
       "    <tr>\n",
       "      <th>3847</th>\n",
       "      <td>Ales</td>\n",
       "      <td>[Al es, Alex, Als, Alec, Alles, Ares, Wales, Aales, Altes, Alecs, Alfs, Sales, Alis, Tales, Alls, Yales, Fläz, Öles, Arles, Oles]</td>\n",
       "      <td>GERMAN_SPELLER_RULE</td>\n",
       "    </tr>\n",
       "    <tr>\n",
       "      <th>3345</th>\n",
       "      <td>Ales</td>\n",
       "      <td>[Al es, Alex, Als, Alec, Alles, Ares, Wales, Aales, Altes, Alecs, Alfs, Sales, Alis, Tales, Alls, Yales, Fläz, Öles, Arles, Oles]</td>\n",
       "      <td>GERMAN_SPELLER_RULE</td>\n",
       "    </tr>\n",
       "    <tr>\n",
       "      <th>4674</th>\n",
       "      <td>Auser</td>\n",
       "      <td>[Aus er, Außer, Auer, Äußer, Süßer, Außen, Büßer, Hauser, Mauser, Auster, Lauser, Augen, Äußere, Autor, Äußern, Häuser, Äußert, Guter, Äußre, Adler]</td>\n",
       "      <td>GERMAN_SPELLER_RULE</td>\n",
       "    </tr>\n",
       "    <tr>\n",
       "      <th>2553</th>\n",
       "      <td>Auser</td>\n",
       "      <td>[Aus er, Außer, Auer, Äußer, Süßer, Außen, Büßer, Hauser, Mauser, Auster, Lauser, Augen, Äußere, Autor, Äußern, Häuser, Äußert, Guter, Äußre, Adler]</td>\n",
       "      <td>GERMAN_SPELLER_RULE</td>\n",
       "    </tr>\n",
       "    <tr>\n",
       "      <th>5160</th>\n",
       "      <td>Beld</td>\n",
       "      <td>[Belt, Welt, Bald, Bild, Hält, Geld, Feld, Held, Bett, Zelt, Bebt, Pell, Beltz, Bälde, Belud, Beat, Best, Beet, Meld, Bert]</td>\n",
       "      <td>GERMAN_SPELLER_RULE</td>\n",
       "    </tr>\n",
       "    <tr>\n",
       "      <th>3687</th>\n",
       "      <td>Beld</td>\n",
       "      <td>[Belt, Welt, Bald, Bild, Hält, Geld, Feld, Held, Bett, Zelt, Bebt, Pell, Beltz, Bälde, Belud, Beat, Best, Beet, Meld, Bert]</td>\n",
       "      <td>GERMAN_SPELLER_RULE</td>\n",
       "    </tr>\n",
       "    <tr>\n",
       "      <th>8537</th>\n",
       "      <td>Belen</td>\n",
       "      <td>[Bären, Beten, Beleg, Selen, Besen, Sälen, Bällen, Bellen, Beben, Gelen, Beilen, Velen, Bäten, Peilen, Belsen, Pellen, Perlen, Beulen, Pesen, Beyen]</td>\n",
       "      <td>GERMAN_SPELLER_RULE</td>\n",
       "    </tr>\n",
       "    <tr>\n",
       "      <th>5428</th>\n",
       "      <td>Belen</td>\n",
       "      <td>[Bären, Beten, Beleg, Selen, Besen, Sälen, Bällen, Bellen, Beben, Gelen, Beilen, Velen, Bäten, Peilen, Belsen, Pellen, Perlen, Beulen, Pesen, Beyen]</td>\n",
       "      <td>GERMAN_SPELLER_RULE</td>\n",
       "    </tr>\n",
       "  </tbody>\n",
       "</table>\n",
       "</div>"
      ],
      "text/plain": [
       "     original  \\\n",
       "422      Aaus   \n",
       "3607     Aaus   \n",
       "3847     Ales   \n",
       "3345     Ales   \n",
       "4674    Auser   \n",
       "2553    Auser   \n",
       "5160     Beld   \n",
       "3687     Beld   \n",
       "8537    Belen   \n",
       "5428    Belen   \n",
       "\n",
       "                                                                                                                                               suggestions  \\\n",
       "422                                   [Aus, Haus, Baus, Maus, Raus, Gauß, Ahaus, Gaus, Taus, Kauz, Gäus, Aals, Laus, Aas, Saus, Anus, Asus, Als, Auf, Das]   \n",
       "3607                                  [Aus, Haus, Baus, Maus, Raus, Gauß, Ahaus, Gaus, Taus, Kauz, Gäus, Aals, Laus, Aas, Saus, Anus, Asus, Als, Auf, Das]   \n",
       "3847                     [Al es, Alex, Als, Alec, Alles, Ares, Wales, Aales, Altes, Alecs, Alfs, Sales, Alis, Tales, Alls, Yales, Fläz, Öles, Arles, Oles]   \n",
       "3345                     [Al es, Alex, Als, Alec, Alles, Ares, Wales, Aales, Altes, Alecs, Alfs, Sales, Alis, Tales, Alls, Yales, Fläz, Öles, Arles, Oles]   \n",
       "4674  [Aus er, Außer, Auer, Äußer, Süßer, Außen, Büßer, Hauser, Mauser, Auster, Lauser, Augen, Äußere, Autor, Äußern, Häuser, Äußert, Guter, Äußre, Adler]   \n",
       "2553  [Aus er, Außer, Auer, Äußer, Süßer, Außen, Büßer, Hauser, Mauser, Auster, Lauser, Augen, Äußere, Autor, Äußern, Häuser, Äußert, Guter, Äußre, Adler]   \n",
       "5160                           [Belt, Welt, Bald, Bild, Hält, Geld, Feld, Held, Bett, Zelt, Bebt, Pell, Beltz, Bälde, Belud, Beat, Best, Beet, Meld, Bert]   \n",
       "3687                           [Belt, Welt, Bald, Bild, Hält, Geld, Feld, Held, Bett, Zelt, Bebt, Pell, Beltz, Bälde, Belud, Beat, Best, Beet, Meld, Bert]   \n",
       "8537  [Bären, Beten, Beleg, Selen, Besen, Sälen, Bällen, Bellen, Beben, Gelen, Beilen, Velen, Bäten, Peilen, Belsen, Pellen, Perlen, Beulen, Pesen, Beyen]   \n",
       "5428  [Bären, Beten, Beleg, Selen, Besen, Sälen, Bällen, Bellen, Beben, Gelen, Beilen, Velen, Bäten, Peilen, Belsen, Pellen, Perlen, Beulen, Pesen, Beyen]   \n",
       "\n",
       "                  rule_id  \n",
       "422   GERMAN_SPELLER_RULE  \n",
       "3607  GERMAN_SPELLER_RULE  \n",
       "3847  GERMAN_SPELLER_RULE  \n",
       "3345  GERMAN_SPELLER_RULE  \n",
       "4674  GERMAN_SPELLER_RULE  \n",
       "2553  GERMAN_SPELLER_RULE  \n",
       "5160  GERMAN_SPELLER_RULE  \n",
       "3687  GERMAN_SPELLER_RULE  \n",
       "8537  GERMAN_SPELLER_RULE  \n",
       "5428  GERMAN_SPELLER_RULE  "
      ]
     },
     "execution_count": 7,
     "metadata": {},
     "output_type": "execute_result"
    }
   ],
   "source": [
    "# Check if duplicate originals results in same suggestions\n",
    "# By eye: Yes\n",
    "dupl = data_error_types[data_error_types.duplicated(subset='original', keep=False)]\n",
    "dupl.sort_values(by='original', ascending=True).head(10)"
   ]
  },
  {
   "cell_type": "code",
   "execution_count": 8,
   "id": "587cf455-a7ce-41c7-ac7c-11b250c9d49a",
   "metadata": {},
   "outputs": [
    {
     "data": {
      "text/plain": [
       "8481"
      ]
     },
     "execution_count": 8,
     "metadata": {},
     "output_type": "execute_result"
    }
   ],
   "source": [
    "# Drop duplicates in df that went through language_tool (bc same original, same suggestions anyway)\n",
    "# To be able to merge to original df\n",
    "\n",
    "data_error_types.drop_duplicates(subset='original', keep='first', inplace=True)\n",
    "data_error_types.shape[0] # before 8771, after 8481; Diff 290  "
   ]
  },
  {
   "cell_type": "code",
   "execution_count": 9,
   "id": "eec1d0c3-36e3-4256-8b92-d88c9bdd0d91",
   "metadata": {},
   "outputs": [
    {
     "data": {
      "text/plain": [
       "9484"
      ]
     },
     "execution_count": 9,
     "metadata": {},
     "output_type": "execute_result"
    }
   ],
   "source": [
    "# Merge\n",
    "merged = df_orig.merge(data_error_types, how='left', on='original')\n",
    "merged.shape[0]"
   ]
  },
  {
   "cell_type": "code",
   "execution_count": 10,
   "id": "10bf8580-5e5e-4362-baa1-fde7ff2a7daf",
   "metadata": {},
   "outputs": [],
   "source": [
    "merged.fillna('', inplace=True)"
   ]
  },
  {
   "cell_type": "code",
   "execution_count": 11,
   "id": "785d42a1-b957-4b37-b3ae-03c240b6c137",
   "metadata": {},
   "outputs": [
    {
     "data": {
      "application/vnd.jupyter.widget-view+json": {
       "model_id": "",
       "version_major": 2,
       "version_minor": 0
      },
      "text/plain": [
       "  0%|          | 0/9484 [00:00<?, ?it/s]"
      ]
     },
     "metadata": {},
     "output_type": "display_data"
    },
    {
     "data": {
      "application/vnd.jupyter.widget-view+json": {
       "model_id": "",
       "version_major": 2,
       "version_minor": 0
      },
      "text/plain": [
       "  0%|          | 0/9484 [00:00<?, ?it/s]"
      ]
     },
     "metadata": {},
     "output_type": "display_data"
    }
   ],
   "source": [
    "# Evaluate suggestions\n",
    "merged_eval = litkey_2.evaluate(merged)\n",
    "merged_eval_cs = litkey_2.evaluate(merged, lower_case=False)"
   ]
  },
  {
   "cell_type": "code",
   "execution_count": 23,
   "id": "750a59ff-7d6e-4fef-b2b4-ce1c233b9bba",
   "metadata": {},
   "outputs": [],
   "source": [
    "# Export\n",
    "#merged_eval.to_pickle('data_error_types_language_tool_evaluation_lc.pkl')\n",
    "#merged_eval_cs.to_pickle('data_error_types_language_tool_evaluation_cs.pkl')"
   ]
  },
  {
   "cell_type": "code",
   "execution_count": 12,
   "id": "930e9825-e6ba-43b1-981c-34536fe8ed5a",
   "metadata": {},
   "outputs": [],
   "source": [
    "# FOR TOKENS\n",
    "df_token = litkey_2.load(litkey_data_path = \"../../litkey-data/\", toss_duplicates=False)"
   ]
  },
  {
   "cell_type": "code",
   "execution_count": 13,
   "id": "9ec22b88-c39e-4a85-9ab7-2f9175d3dfc9",
   "metadata": {},
   "outputs": [
    {
     "data": {
      "text/html": [
       "<div>\n",
       "<style scoped>\n",
       "    .dataframe tbody tr th:only-of-type {\n",
       "        vertical-align: middle;\n",
       "    }\n",
       "\n",
       "    .dataframe tbody tr th {\n",
       "        vertical-align: top;\n",
       "    }\n",
       "\n",
       "    .dataframe thead th {\n",
       "        text-align: right;\n",
       "    }\n",
       "</style>\n",
       "<table border=\"1\" class=\"dataframe\">\n",
       "  <thead>\n",
       "    <tr style=\"text-align: right;\">\n",
       "      <th></th>\n",
       "      <th>original</th>\n",
       "      <th>corrected</th>\n",
       "      <th>filename</th>\n",
       "      <th>freq_ori</th>\n",
       "      <th>freq_cor</th>\n",
       "      <th>freq_tup</th>\n",
       "    </tr>\n",
       "  </thead>\n",
       "  <tbody>\n",
       "    <tr>\n",
       "      <th>0</th>\n",
       "      <td>belt</td>\n",
       "      <td>bellt</td>\n",
       "      <td>01-005-2-III-Eis.csv</td>\n",
       "      <td>91</td>\n",
       "      <td>138</td>\n",
       "      <td>91</td>\n",
       "    </tr>\n",
       "    <tr>\n",
       "      <th>1</th>\n",
       "      <td>kukt</td>\n",
       "      <td>kuckt</td>\n",
       "      <td>01-005-2-III-Eis.csv</td>\n",
       "      <td>73</td>\n",
       "      <td>152</td>\n",
       "      <td>73</td>\n",
       "    </tr>\n",
       "  </tbody>\n",
       "</table>\n",
       "</div>"
      ],
      "text/plain": [
       "  original corrected              filename  freq_ori  freq_cor  freq_tup\n",
       "0     belt     bellt  01-005-2-III-Eis.csv        91       138        91\n",
       "1     kukt     kuckt  01-005-2-III-Eis.csv        73       152        73"
      ]
     },
     "execution_count": 13,
     "metadata": {},
     "output_type": "execute_result"
    }
   ],
   "source": [
    "df_token.head(2)"
   ]
  },
  {
   "cell_type": "code",
   "execution_count": 14,
   "id": "e2895c48-592e-4823-a3c3-cfc5ff4ceae4",
   "metadata": {},
   "outputs": [
    {
     "data": {
      "text/plain": [
       "24601"
      ]
     },
     "execution_count": 14,
     "metadata": {},
     "output_type": "execute_result"
    }
   ],
   "source": [
    "merged_token = df_token.merge(data_error_types, how='left', on='original')\n",
    "merged_token.fillna('', inplace=True)\n",
    "merged_token.shape[0]"
   ]
  },
  {
   "cell_type": "code",
   "execution_count": 15,
   "id": "3bd9650c-f0b5-477b-9351-9dfbcc1e8c77",
   "metadata": {},
   "outputs": [
    {
     "data": {
      "application/vnd.jupyter.widget-view+json": {
       "model_id": "",
       "version_major": 2,
       "version_minor": 0
      },
      "text/plain": [
       "  0%|          | 0/24601 [00:00<?, ?it/s]"
      ]
     },
     "metadata": {},
     "output_type": "display_data"
    },
    {
     "data": {
      "application/vnd.jupyter.widget-view+json": {
       "model_id": "",
       "version_major": 2,
       "version_minor": 0
      },
      "text/plain": [
       "  0%|          | 0/24601 [00:00<?, ?it/s]"
      ]
     },
     "metadata": {},
     "output_type": "display_data"
    }
   ],
   "source": [
    "# Evaluate\n",
    "merged_token_eval_lc = litkey_2.evaluate(merged_token)\n",
    "merged_token_eval_cs = litkey_2.evaluate(merged_token, lower_case=False)"
   ]
  },
  {
   "cell_type": "code",
   "execution_count": 33,
   "id": "22cb2dad-0cc7-46bf-9744-4350229b175d",
   "metadata": {},
   "outputs": [],
   "source": [
    "# Export\n",
    "#merged_token_eval_lc.to_pickle('data_error_token_language_tool_evaluation_lc.pkl')\n",
    "#merged_token_eval_cs.to_pickle('data_error_token_language_tool_evaluation_cs.pkl')"
   ]
  },
  {
   "cell_type": "code",
   "execution_count": 19,
   "id": "cf8a9535-3347-4672-b4ee-674cb820bedd",
   "metadata": {},
   "outputs": [],
   "source": [
    "#merged_token_eval_lc.to_pickle('./pickles/pickles_evaluation/data_error_token_language_tool_evaluation_lc_RULEID.pkl')"
   ]
  },
  {
   "cell_type": "markdown",
   "id": "130efeda-dc44-4def-9f21-82c4294b8082",
   "metadata": {},
   "source": [
    "***\n",
    "## data_error_types_100_language_tool"
   ]
  },
  {
   "cell_type": "code",
   "execution_count": 4,
   "id": "49e31783-9350-4c95-83fe-3e0e6686862f",
   "metadata": {},
   "outputs": [],
   "source": [
    "# Read in df\n",
    "data_error_types = pd.read_pickle('data_error_types_100_language_tool.pkl')"
   ]
  },
  {
   "cell_type": "code",
   "execution_count": 5,
   "id": "4c0ab881-dbcb-4726-870b-cf3968b95995",
   "metadata": {},
   "outputs": [
    {
     "data": {
      "text/html": [
       "<div>\n",
       "<style scoped>\n",
       "    .dataframe tbody tr th:only-of-type {\n",
       "        vertical-align: middle;\n",
       "    }\n",
       "\n",
       "    .dataframe tbody tr th {\n",
       "        vertical-align: top;\n",
       "    }\n",
       "\n",
       "    .dataframe thead th {\n",
       "        text-align: right;\n",
       "    }\n",
       "</style>\n",
       "<table border=\"1\" class=\"dataframe\">\n",
       "  <thead>\n",
       "    <tr style=\"text-align: right;\">\n",
       "      <th></th>\n",
       "      <th>original</th>\n",
       "      <th>suggestions</th>\n",
       "    </tr>\n",
       "  </thead>\n",
       "  <tbody>\n",
       "    <tr>\n",
       "      <th>0</th>\n",
       "      <td>belt</td>\n",
       "      <td>[Belt]</td>\n",
       "    </tr>\n",
       "    <tr>\n",
       "      <th>1</th>\n",
       "      <td>kukt</td>\n",
       "      <td>[rückt, zückt, bückt, guckt, kickt, kackt, gut, rückte, deckt, fügt, Lücke, lockt, weckt, packt, Mücke, kund, kürt, lügt, hackt, hockt]</td>\n",
       "    </tr>\n",
       "    <tr>\n",
       "      <th>2</th>\n",
       "      <td>dan</td>\n",
       "      <td>[dann, Dan, den, an, das, man, da, dar, van, San, tun, Jan, dank, tat, dran, ran, tank, Fan, Idan, Pan]</td>\n",
       "    </tr>\n",
       "    <tr>\n",
       "      <th>3</th>\n",
       "      <td>gekricht</td>\n",
       "      <td>[gebricht, gegeigt, gekickt, gekracht, gebracht, geprägt, gezeigt, Gericht, Bericht, gefragt, gerecht, gekocht, geneigt, gereicht, Rücksicht, gerückt, geklagt, geeicht, gegrillt, geknickt]</td>\n",
       "    </tr>\n",
       "    <tr>\n",
       "      <th>4</th>\n",
       "      <td>leken</td>\n",
       "      <td>[legen, locken, lägen, Säcken, lecken, gegen, wegen, leben, lagen, lesen, Becken, decken, dicken, legten, lenken, locker, regen, rücken, Lücken, Nacken]</td>\n",
       "    </tr>\n",
       "    <tr>\n",
       "      <th>5</th>\n",
       "      <td>felt</td>\n",
       "      <td>[Welt, fest, fällt, hält, Geld, fehlt, Feld, Held, fett, Zelt, fegt, Belt, feilt, feit, fielt, meld, pfählt, zelt, seit]</td>\n",
       "    </tr>\n",
       "    <tr>\n",
       "      <th>6</th>\n",
       "      <td>wolte</td>\n",
       "      <td>[wollte, holte, volle, wohnte, wolle, wilde, Nolte, Nolde, Bolte, Dolde, holde, wölbte, Golde, Solde, Volte, johlte, nölte, vote, walte, wogte]</td>\n",
       "    </tr>\n",
       "    <tr>\n",
       "      <th>7</th>\n",
       "      <td>lekt</td>\n",
       "      <td>[legt, lockt, leckt, bäckt, lägt, lebt, legte, deckt, lädt, rückt, lenkt, lockte, weckt, Bäcker, hegt, lege, leid, läge, packt, regt]</td>\n",
       "    </tr>\n",
       "    <tr>\n",
       "      <th>8</th>\n",
       "      <td>fom</td>\n",
       "      <td>[FOM, vom, von, vor, Rom, Dom, vorm, zoom, Boom, Tom, Zoom, im, dem, für, am, um, zum, so, ihm, kam]</td>\n",
       "    </tr>\n",
       "    <tr>\n",
       "      <th>9</th>\n",
       "      <td>gawen</td>\n",
       "      <td>[kamen, gaben, kämen, gäben, kauen, garen, gären, Laven, käsen, Maven, gegen, kann, waren, haben, Namen, davon, geben, gehen, bauen, ganzen]</td>\n",
       "    </tr>\n",
       "  </tbody>\n",
       "</table>\n",
       "</div>"
      ],
      "text/plain": [
       "   original  \\\n",
       "0      belt   \n",
       "1      kukt   \n",
       "2       dan   \n",
       "3  gekricht   \n",
       "4     leken   \n",
       "5      felt   \n",
       "6     wolte   \n",
       "7      lekt   \n",
       "8       fom   \n",
       "9     gawen   \n",
       "\n",
       "                                                                                                                                                                                    suggestions  \n",
       "0                                                                                                                                                                                        [Belt]  \n",
       "1                                                       [rückt, zückt, bückt, guckt, kickt, kackt, gut, rückte, deckt, fügt, Lücke, lockt, weckt, packt, Mücke, kund, kürt, lügt, hackt, hockt]  \n",
       "2                                                                                       [dann, Dan, den, an, das, man, da, dar, van, San, tun, Jan, dank, tat, dran, ran, tank, Fan, Idan, Pan]  \n",
       "3  [gebricht, gegeigt, gekickt, gekracht, gebracht, geprägt, gezeigt, Gericht, Bericht, gefragt, gerecht, gekocht, geneigt, gereicht, Rücksicht, gerückt, geklagt, geeicht, gegrillt, geknickt]  \n",
       "4                                      [legen, locken, lägen, Säcken, lecken, gegen, wegen, leben, lagen, lesen, Becken, decken, dicken, legten, lenken, locker, regen, rücken, Lücken, Nacken]  \n",
       "5                                                                      [Welt, fest, fällt, hält, Geld, fehlt, Feld, Held, fett, Zelt, fegt, Belt, feilt, feit, fielt, meld, pfählt, zelt, seit]  \n",
       "6                                               [wollte, holte, volle, wohnte, wolle, wilde, Nolte, Nolde, Bolte, Dolde, holde, wölbte, Golde, Solde, Volte, johlte, nölte, vote, walte, wogte]  \n",
       "7                                                         [legt, lockt, leckt, bäckt, lägt, lebt, legte, deckt, lädt, rückt, lenkt, lockte, weckt, Bäcker, hegt, lege, leid, läge, packt, regt]  \n",
       "8                                                                                          [FOM, vom, von, vor, Rom, Dom, vorm, zoom, Boom, Tom, Zoom, im, dem, für, am, um, zum, so, ihm, kam]  \n",
       "9                                                  [kamen, gaben, kämen, gäben, kauen, garen, gären, Laven, käsen, Maven, gegen, kann, waren, haben, Namen, davon, geben, gehen, bauen, ganzen]  "
      ]
     },
     "metadata": {},
     "output_type": "display_data"
    },
    {
     "data": {
      "text/plain": [
       "88"
      ]
     },
     "metadata": {},
     "output_type": "display_data"
    }
   ],
   "source": [
    "display(data_error_types.head(10))\n",
    "display(data_error_types.shape[0]) # 88"
   ]
  },
  {
   "cell_type": "code",
   "execution_count": 6,
   "id": "d1e1f78a-c5de-434b-8d07-d81e1d82ef37",
   "metadata": {},
   "outputs": [
    {
     "data": {
      "text/plain": [
       "100"
      ]
     },
     "metadata": {},
     "output_type": "display_data"
    },
    {
     "data": {
      "text/html": [
       "<div>\n",
       "<style scoped>\n",
       "    .dataframe tbody tr th:only-of-type {\n",
       "        vertical-align: middle;\n",
       "    }\n",
       "\n",
       "    .dataframe tbody tr th {\n",
       "        vertical-align: top;\n",
       "    }\n",
       "\n",
       "    .dataframe thead th {\n",
       "        text-align: right;\n",
       "    }\n",
       "</style>\n",
       "<table border=\"1\" class=\"dataframe\">\n",
       "  <thead>\n",
       "    <tr style=\"text-align: right;\">\n",
       "      <th></th>\n",
       "      <th>original</th>\n",
       "      <th>corrected</th>\n",
       "    </tr>\n",
       "  </thead>\n",
       "  <tbody>\n",
       "    <tr>\n",
       "      <th>0</th>\n",
       "      <td>belt</td>\n",
       "      <td>bellt</td>\n",
       "    </tr>\n",
       "    <tr>\n",
       "      <th>1</th>\n",
       "      <td>kukt</td>\n",
       "      <td>kuckt</td>\n",
       "    </tr>\n",
       "  </tbody>\n",
       "</table>\n",
       "</div>"
      ],
      "text/plain": [
       "  original corrected\n",
       "0     belt     bellt\n",
       "1     kukt     kuckt"
      ]
     },
     "metadata": {},
     "output_type": "display_data"
    }
   ],
   "source": [
    "# Merge corrected back\n",
    "df_orig = pd.read_csv('../Experiment_Boyd/Input/smaller_data_sets/2021-04-14_litkey_2_error_types_cs_NO_COUNT_100.tsv', sep=\"\\t\", header=None)\n",
    "df_orig.rename(columns={0: 'original', 1:'corrected'}, inplace=True)\n",
    "display(df_orig.shape[0]) # 100\n",
    "display(df_orig.head(2))"
   ]
  },
  {
   "cell_type": "code",
   "execution_count": 7,
   "id": "daf3e292-e809-47cb-973b-ffd5a43e3c04",
   "metadata": {},
   "outputs": [],
   "source": [
    "merged = df_orig.merge(data_error_types, how='left', on='original')"
   ]
  },
  {
   "cell_type": "code",
   "execution_count": 1,
   "id": "acab94b3-4dc6-455f-b7ba-9ede8edba858",
   "metadata": {},
   "outputs": [],
   "source": [
    "#merged.shape[0]\n",
    "#merged"
   ]
  },
  {
   "cell_type": "code",
   "execution_count": 12,
   "id": "fc029f56-efe5-4749-8842-088c44d2d1ed",
   "metadata": {},
   "outputs": [],
   "source": [
    "merged.fillna('', inplace=True)"
   ]
  },
  {
   "cell_type": "code",
   "execution_count": 13,
   "id": "9053fa1a-138a-410e-87bb-53493451e234",
   "metadata": {},
   "outputs": [
    {
     "data": {
      "application/vnd.jupyter.widget-view+json": {
       "model_id": "",
       "version_major": 2,
       "version_minor": 0
      },
      "text/plain": [
       "  0%|          | 0/100 [00:00<?, ?it/s]"
      ]
     },
     "metadata": {},
     "output_type": "display_data"
    }
   ],
   "source": [
    "# Evaluate suggestions\n",
    "merged_eval = litkey_2.evaluate(merged)"
   ]
  },
  {
   "cell_type": "code",
   "execution_count": 16,
   "id": "d8d54c56-7a68-413f-ba5d-f29f59acd07e",
   "metadata": {},
   "outputs": [
    {
     "data": {
      "text/plain": [
       " 0.0     30\n",
       "-1.0     28\n",
       " 1.0     12\n",
       " 2.0      9\n",
       " 3.0      5\n",
       " 4.0      5\n",
       " 5.0      3\n",
       " 6.0      3\n",
       " 11.0     2\n",
       " 9.0      1\n",
       " 17.0     1\n",
       " 19.0     1\n",
       "Name: sugg_idx, dtype: int64"
      ]
     },
     "execution_count": 16,
     "metadata": {},
     "output_type": "execute_result"
    }
   ],
   "source": [
    "# First stats\n",
    "merged_eval['sugg_idx'].fillna(-1, inplace=True)\n",
    "merged_eval.sugg_idx.value_counts().sort_values(ascending=False)"
   ]
  },
  {
   "cell_type": "code",
   "execution_count": 21,
   "id": "cba46058-2043-4278-8aa3-1f9d31687841",
   "metadata": {},
   "outputs": [
    {
     "data": {
      "text/plain": [
       "True     72\n",
       "False    28\n",
       "Name: in_sugg, dtype: int64"
      ]
     },
     "execution_count": 21,
     "metadata": {},
     "output_type": "execute_result"
    }
   ],
   "source": [
    "merged_eval.in_sugg.value_counts()"
   ]
  },
  {
   "cell_type": "code",
   "execution_count": 22,
   "id": "a2f8b325-96fd-412b-af32-2457a9807fb1",
   "metadata": {},
   "outputs": [
    {
     "data": {
      "text/plain": [
       "False    70\n",
       "True     30\n",
       "Name: idx0, dtype: int64"
      ]
     },
     "execution_count": 22,
     "metadata": {},
     "output_type": "execute_result"
    }
   ],
   "source": [
    "merged_eval.idx0.value_counts()"
   ]
  },
  {
   "cell_type": "markdown",
   "id": "d8d2ada0-1a3a-49f1-8690-c4ed93d0a0c9",
   "metadata": {},
   "source": [
    "# Error Types"
   ]
  },
  {
   "cell_type": "code",
   "execution_count": null,
   "id": "875aae68-02e4-4d37-b8cb-51745b4d6253",
   "metadata": {},
   "outputs": [],
   "source": [
    "# Extract again\n",
    "# Text info\n",
    "start_positions = []\n",
    "end_positions = []\n",
    "num_texts = []\n",
    "\n",
    "my_mistakes = []\n",
    "my_corrections = []\n",
    "\n",
    "# Error info\n",
    "ruleId = []\n",
    "category = []\n",
    "ruleIssueType = []\n",
    "\n",
    "\n",
    "text_count = 0\n",
    "\n",
    "for text in x:\n",
    "    \n",
    "    for match in text:\n",
    "    \n",
    "        start_positions.append(match.offset)\n",
    "        end_positions.append(match.errorLength+match.offset)\n",
    "        num_texts.append(text_count)\n",
    "        \n",
    "        my_mistakes.append(whole_texts[text_count][match.offset:match.errorLength+match.offset])\n",
    "        my_corrections.append(match.replacements)\n",
    "        \n",
    "        ruleId.append(match.ruleId)\n",
    "        category.append(match.category)\n",
    "        ruleIssueType.append(match.ruleIssueType)\n",
    "        \n",
    "    text_count+=1    "
   ]
  }
 ],
 "metadata": {
  "kernelspec": {
   "display_name": "bodu-spell_Env",
   "language": "python",
   "name": "bodu-spell_env"
  },
  "language_info": {
   "codemirror_mode": {
    "name": "ipython",
    "version": 3
   },
   "file_extension": ".py",
   "mimetype": "text/x-python",
   "name": "python",
   "nbconvert_exporter": "python",
   "pygments_lexer": "ipython3",
   "version": "3.9.6"
  }
 },
 "nbformat": 4,
 "nbformat_minor": 5
}
